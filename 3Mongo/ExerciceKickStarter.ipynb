{
 "cells": [
  {
   "cell_type": "markdown",
   "metadata": {},
   "source": [
    "#  Consignes\n",
    "\n",
    "## Description\n",
    "\n",
    "Ouvrir le fichier ks-projects-201801.csv, il recense environ 100 000 projets KickStarter. Intégrer les données directement avec L'API Python dans une base de données Mongo. \n",
    "\n",
    "Il conviendra de bien spécifier manuellement l'ID du document. Pensez aussi à bien formatter le type des données pour profiter des méthodes implémentées par Mongo. L'ensemble de données n'est pas forcément nécessaire, c'est à vous de créer votre modèle de données.\n",
    "\n",
    "## Questions\n",
    "\n",
    "- 1) Récupérer les 5 projets ayant reçu le plus de promesse de dons.\n",
    "- 2) Compter le nombre de projets ayant atteint leur but.\n",
    "- 3) Compter le nombre de projets pour chaque catégorie.\n",
    "- 4) Compter le nombre de projets français ayant été instanciés avant 2016.\n",
    "- 5) Récupérer les projets américains ayant demandé plus de 200 000 dollars.\n",
    "- 6) Compter le nombre de projet ayant \"Sport\" dans leur nom"
   ]
  },
  {
   "cell_type": "code",
   "execution_count": 1,
   "metadata": {},
   "outputs": [],
   "source": [
    "import pandas as pd\n",
    "import pymongo\n",
    "from datetime import datetime"
   ]
  },
  {
   "cell_type": "code",
   "execution_count": 2,
   "metadata": {},
   "outputs": [],
   "source": [
    "client = pymongo.MongoClient(\"mongo\")\n",
    "database = client.exercices\n",
    "collection = database.kickstarter"
   ]
  },
  {
   "cell_type": "code",
   "execution_count": 3,
   "metadata": {},
   "outputs": [
    {
     "name": "stderr",
     "output_type": "stream",
     "text": [
      "/root/.local/share/virtualenvs/code-AFz48Hjb/lib/python3.8/site-packages/IPython/core/interactiveshell.py:3146: DtypeWarning: Columns (6,8,10,12) have mixed types.Specify dtype option on import or set low_memory=False.\n",
      "  has_raised = await self.run_ast_nodes(code_ast.body, cell_name,\n"
     ]
    },
    {
     "data": {
      "text/html": [
       "<div>\n",
       "<style scoped>\n",
       "    .dataframe tbody tr th:only-of-type {\n",
       "        vertical-align: middle;\n",
       "    }\n",
       "\n",
       "    .dataframe tbody tr th {\n",
       "        vertical-align: top;\n",
       "    }\n",
       "\n",
       "    .dataframe thead th {\n",
       "        text-align: right;\n",
       "    }\n",
       "</style>\n",
       "<table border=\"1\" class=\"dataframe\">\n",
       "  <thead>\n",
       "    <tr style=\"text-align: right;\">\n",
       "      <th></th>\n",
       "      <th>ID</th>\n",
       "      <th>name</th>\n",
       "      <th>category</th>\n",
       "      <th>main_category</th>\n",
       "      <th>currency</th>\n",
       "      <th>deadline</th>\n",
       "      <th>goal</th>\n",
       "      <th>launched</th>\n",
       "      <th>pledged</th>\n",
       "      <th>state</th>\n",
       "      <th>backers</th>\n",
       "      <th>country</th>\n",
       "      <th>usd pledged</th>\n",
       "      <th>usd_pledged_real</th>\n",
       "    </tr>\n",
       "  </thead>\n",
       "  <tbody>\n",
       "    <tr>\n",
       "      <th>0</th>\n",
       "      <td>872782264</td>\n",
       "      <td>Scott Cooper's Solo CD \"A Leg Trick\" (Canceled)</td>\n",
       "      <td>Rock</td>\n",
       "      <td>Music</td>\n",
       "      <td>USD</td>\n",
       "      <td>2011-09-16</td>\n",
       "      <td>2000</td>\n",
       "      <td>2011-08-17 06:31:31</td>\n",
       "      <td>1145</td>\n",
       "      <td>canceled</td>\n",
       "      <td>24</td>\n",
       "      <td>US</td>\n",
       "      <td>1145</td>\n",
       "      <td>1145.000000</td>\n",
       "    </tr>\n",
       "    <tr>\n",
       "      <th>1</th>\n",
       "      <td>1326492673</td>\n",
       "      <td>Ohceola jewelry</td>\n",
       "      <td>Fashion</td>\n",
       "      <td>Fashion</td>\n",
       "      <td>USD</td>\n",
       "      <td>2012-08-22</td>\n",
       "      <td>18000</td>\n",
       "      <td>2012-07-23 20:46:48</td>\n",
       "      <td>1851</td>\n",
       "      <td>failed</td>\n",
       "      <td>28</td>\n",
       "      <td>US</td>\n",
       "      <td>1851</td>\n",
       "      <td>1851.000000</td>\n",
       "    </tr>\n",
       "    <tr>\n",
       "      <th>2</th>\n",
       "      <td>1688410639</td>\n",
       "      <td>Sluff Off &amp; Harald: Two latest EGGs are Classi...</td>\n",
       "      <td>Tabletop Games</td>\n",
       "      <td>Games</td>\n",
       "      <td>USD</td>\n",
       "      <td>2016-07-19</td>\n",
       "      <td>2000</td>\n",
       "      <td>2016-07-01 21:55:54</td>\n",
       "      <td>7534</td>\n",
       "      <td>successful</td>\n",
       "      <td>254</td>\n",
       "      <td>US</td>\n",
       "      <td>3796</td>\n",
       "      <td>7534.000000</td>\n",
       "    </tr>\n",
       "    <tr>\n",
       "      <th>3</th>\n",
       "      <td>156812982</td>\n",
       "      <td>SketchPlanner: Create and Plan- all in one bea...</td>\n",
       "      <td>Art Books</td>\n",
       "      <td>Publishing</td>\n",
       "      <td>USD</td>\n",
       "      <td>2017-09-27</td>\n",
       "      <td>13000</td>\n",
       "      <td>2017-08-28 15:47:02</td>\n",
       "      <td>16298</td>\n",
       "      <td>successful</td>\n",
       "      <td>367</td>\n",
       "      <td>US</td>\n",
       "      <td>2670</td>\n",
       "      <td>16298.000000</td>\n",
       "    </tr>\n",
       "    <tr>\n",
       "      <th>4</th>\n",
       "      <td>1835968190</td>\n",
       "      <td>Proven sales with custom motorcycle accessories</td>\n",
       "      <td>Sculpture</td>\n",
       "      <td>Art</td>\n",
       "      <td>CAD</td>\n",
       "      <td>2016-02-24</td>\n",
       "      <td>5000</td>\n",
       "      <td>2016-01-25 17:37:10</td>\n",
       "      <td>1</td>\n",
       "      <td>failed</td>\n",
       "      <td>1</td>\n",
       "      <td>CA</td>\n",
       "      <td>0.708148</td>\n",
       "      <td>0.738225</td>\n",
       "    </tr>\n",
       "  </tbody>\n",
       "</table>\n",
       "</div>"
      ],
      "text/plain": [
       "           ID                                               name  \\\n",
       "0   872782264    Scott Cooper's Solo CD \"A Leg Trick\" (Canceled)   \n",
       "1  1326492673                                    Ohceola jewelry   \n",
       "2  1688410639  Sluff Off & Harald: Two latest EGGs are Classi...   \n",
       "3   156812982  SketchPlanner: Create and Plan- all in one bea...   \n",
       "4  1835968190    Proven sales with custom motorcycle accessories   \n",
       "\n",
       "         category main_category currency    deadline   goal  \\\n",
       "0            Rock         Music      USD  2011-09-16   2000   \n",
       "1         Fashion       Fashion      USD  2012-08-22  18000   \n",
       "2  Tabletop Games         Games      USD  2016-07-19   2000   \n",
       "3       Art Books    Publishing      USD  2017-09-27  13000   \n",
       "4       Sculpture           Art      CAD  2016-02-24   5000   \n",
       "\n",
       "              launched pledged       state backers country usd pledged  \\\n",
       "0  2011-08-17 06:31:31    1145    canceled      24      US        1145   \n",
       "1  2012-07-23 20:46:48    1851      failed      28      US        1851   \n",
       "2  2016-07-01 21:55:54    7534  successful     254      US        3796   \n",
       "3  2017-08-28 15:47:02   16298  successful     367      US        2670   \n",
       "4  2016-01-25 17:37:10       1      failed       1      CA    0.708148   \n",
       "\n",
       "   usd_pledged_real  \n",
       "0       1145.000000  \n",
       "1       1851.000000  \n",
       "2       7534.000000  \n",
       "3      16298.000000  \n",
       "4          0.738225  "
      ]
     },
     "execution_count": 3,
     "metadata": {},
     "output_type": "execute_result"
    }
   ],
   "source": [
    "df_ks = pd.read_csv(\"./data/ks-projects-201801-sample.csv\")\n",
    "df_ks.head()"
   ]
  },
  {
   "cell_type": "markdown",
   "metadata": {},
   "source": [
    "Ce warning intervient lorsque pandas n'arrive pas à inférer le type de données. Il est sympa il précise les colones 6,8,10,12. "
   ]
  },
  {
   "cell_type": "code",
   "execution_count": 4,
   "metadata": {},
   "outputs": [
    {
     "data": {
      "text/plain": [
       "Index(['goal', 'pledged', 'backers', 'usd pledged'], dtype='object')"
      ]
     },
     "execution_count": 4,
     "metadata": {},
     "output_type": "execute_result"
    }
   ],
   "source": [
    "df_ks.columns[[6,8,10,12]]"
   ]
  },
  {
   "cell_type": "markdown",
   "metadata": {},
   "source": [
    "## Question 0"
   ]
  },
  {
   "cell_type": "markdown",
   "metadata": {},
   "source": [
    "### Netoyer les données\n",
    "\n",
    "- Dans la colonne \"goal\", il y a une date au milieu des flottants (ligne 66141)\n",
    "- Dans la colonne \"pledged\", il y a une date au milieu des flottants (ligne 66141) \n",
    "- Dans la colonne \"backers\", il y a un mot au milieu des entiers (ligne 66141)\n",
    "- Dans la colonne \"usd pledged\", il y a un mot au milieu des flottants (ligne 66141)        \n",
    "\n",
    "Toutes les erreurs de conversion sont dues aux anomalies de la ligne 66141.       \n",
    "On règle le problème en supprimant cette ligne."
   ]
  },
  {
   "cell_type": "code",
   "execution_count": 5,
   "metadata": {},
   "outputs": [
    {
     "name": "stdout",
     "output_type": "stream",
     "text": [
      "(150000, 14)\n"
     ]
    },
    {
     "data": {
      "text/plain": [
       "(149999, 14)"
      ]
     },
     "execution_count": 5,
     "metadata": {},
     "output_type": "execute_result"
    }
   ],
   "source": [
    "print(df_ks.shape)\n",
    "df_ks=df_ks.query(\"index!=66141\")\n",
    "df_ks.shape"
   ]
  },
  {
   "cell_type": "markdown",
   "metadata": {},
   "source": [
    "On modifie le nom de la variable \"ID\" en \"_id\" afin d'utiliser cette colonne comme identifants des documents."
   ]
  },
  {
   "cell_type": "code",
   "execution_count": 6,
   "metadata": {},
   "outputs": [
    {
     "data": {
      "text/plain": [
       "True"
      ]
     },
     "execution_count": 6,
     "metadata": {},
     "output_type": "execute_result"
    }
   ],
   "source": [
    "df_ks.ID.value_counts().max()==1"
   ]
  },
  {
   "cell_type": "code",
   "execution_count": 7,
   "metadata": {},
   "outputs": [
    {
     "data": {
      "text/plain": [
       "Index(['_id', 'name', 'category', 'main_category', 'currency', 'deadline',\n",
       "       'goal', 'launched', 'pledged', 'state', 'backers', 'country',\n",
       "       'usd pledged', 'usd_pledged_real'],\n",
       "      dtype='object')"
      ]
     },
     "execution_count": 7,
     "metadata": {},
     "output_type": "execute_result"
    }
   ],
   "source": [
    "df_ks.columns=[col if col!=\"ID\" else \"_id\" for col in df_ks.columns]\n",
    "df_ks.columns"
   ]
  },
  {
   "cell_type": "markdown",
   "metadata": {},
   "source": [
    "On convertit les variables anciennement concernées par des anomalies en entiers ou flottants.                        \n",
    "Les variables launched et deadline sont mises au format datetime."
   ]
  },
  {
   "cell_type": "code",
   "execution_count": 8,
   "metadata": {},
   "outputs": [
    {
     "name": "stdout",
     "output_type": "stream",
     "text": [
      "<class 'pandas.core.frame.DataFrame'>\n",
      "Int64Index: 149999 entries, 0 to 149999\n",
      "Data columns (total 14 columns):\n",
      " #   Column            Non-Null Count   Dtype         \n",
      "---  ------            --------------   -----         \n",
      " 0   _id               149999 non-null  float64       \n",
      " 1   name              149997 non-null  object        \n",
      " 2   category          149999 non-null  object        \n",
      " 3   main_category     149999 non-null  object        \n",
      " 4   currency          149999 non-null  object        \n",
      " 5   deadline          149999 non-null  datetime64[ns]\n",
      " 6   goal              149999 non-null  float64       \n",
      " 7   launched          149999 non-null  datetime64[ns]\n",
      " 8   pledged           149999 non-null  float64       \n",
      " 9   state             149999 non-null  object        \n",
      " 10  backers           149999 non-null  int64         \n",
      " 11  country           149999 non-null  object        \n",
      " 12  usd pledged       148517 non-null  float64       \n",
      " 13  usd_pledged_real  149999 non-null  float64       \n",
      "dtypes: datetime64[ns](2), float64(5), int64(1), object(6)\n",
      "memory usage: 17.2+ MB\n"
     ]
    }
   ],
   "source": [
    "df_ks['_id']=df_ks['_id'].astype('float')\n",
    "df_ks['goal']=df_ks['goal'].astype('float')\n",
    "df_ks['backers']=df_ks['backers'].astype('int')\n",
    "df_ks['pledged']=df_ks['pledged'].astype('float')\n",
    "df_ks['usd pledged']=df_ks['usd pledged'].astype('float')\n",
    "df_ks['launched']=df_ks['launched'].astype('datetime64[ns]')\n",
    "df_ks['deadline']=df_ks['deadline'].astype('datetime64[ns]')\n",
    "df_ks.info()"
   ]
  },
  {
   "cell_type": "markdown",
   "metadata": {
    "slideshow": {
     "slide_type": "slide"
    }
   },
   "source": [
    "### Importer les données\n",
    "\n",
    "On transforme chaque ligne de df_ks en dictionnaire avec la fonction suivante."
   ]
  },
  {
   "cell_type": "code",
   "execution_count": 9,
   "metadata": {},
   "outputs": [
    {
     "name": "stdout",
     "output_type": "stream",
     "text": [
      "149999\n",
      "{'_id': 872782264.0, 'pledged': 1145.0, 'name': 'Scott Cooper\\'s Solo CD \"A Leg Trick\" (Canceled)', 'category': 'Rock', 'country': 'US', 'goal': 2000.0, 'launched': Timestamp('2011-08-17 06:31:31')}\n"
     ]
    }
   ],
   "source": [
    "def to_documents(df,col_list='all'):\n",
    "    \"\"\"\n",
    "    Transformation des lignes du dataframe df en \n",
    "    plusieurs dictionnaires\n",
    "\n",
    "    Args:\n",
    "        df: nom du dataframe à convertir\n",
    "        col_list: liste des variables à exporter\n",
    "\n",
    "    Returns:\n",
    "        liste de dictionnaires issus de la conversion\n",
    "    \"\"\"\n",
    "    if type(col_list)==type([]) and len(col_list)!=0:\n",
    "        df=df.copy()[col_list]\n",
    "    DOCUMENTS=df.to_dict(orient='records')\n",
    "    return DOCUMENTS\n",
    "\n",
    "DOCUMENTS=to_documents(df_ks,[\"_id\",\"pledged\",\"name\",\"category\",\"country\",\"goal\",\"launched\"])\n",
    "print(len(DOCUMENTS),DOCUMENTS[0],sep=\"\\n\")"
   ]
  },
  {
   "cell_type": "markdown",
   "metadata": {},
   "source": [
    "On insère ensuite les dictionnaires dans la collection."
   ]
  },
  {
   "cell_type": "code",
   "execution_count": 10,
   "metadata": {},
   "outputs": [
    {
     "data": {
      "text/plain": [
       "{'_id': 872782264.0,\n",
       " 'pledged': 1145.0,\n",
       " 'name': 'Scott Cooper\\'s Solo CD \"A Leg Trick\" (Canceled)',\n",
       " 'category': 'Rock',\n",
       " 'country': 'US',\n",
       " 'goal': 2000.0,\n",
       " 'launched': datetime.datetime(2011, 8, 17, 6, 31, 31)}"
      ]
     },
     "execution_count": 10,
     "metadata": {},
     "output_type": "execute_result"
    }
   ],
   "source": [
    "collection.drop()\n",
    "collection.insert_many(DOCUMENTS)\n",
    "collection.find_one()"
   ]
  },
  {
   "cell_type": "markdown",
   "metadata": {},
   "source": [
    "## Question 1  \n",
    "\n",
    "On récupère les projets ayant reçut le plus de 5 promesses de dons.                \n",
    "Pour cela, on fait un tri décroissant de la collection par rapport à pledged puis on revoie les 5 premiers documents.          \n",
    "La requête est la suivante."
   ]
  },
  {
   "cell_type": "code",
   "execution_count": 11,
   "metadata": {},
   "outputs": [
    {
     "name": "stdout",
     "output_type": "stream",
     "text": [
      "[\"COOLEST COOLER: 21st Century Cooler that's Actually Cooler\", 'Pebble 2, Time 2 + All-New Pebble Core', 'Expect the Unexpected. digiFilmï¿½ Camera by YASHICA', 'OUYA: A New Kind of Video Game Console', 'The Everyday Backpack, Tote, and Sling']\n"
     ]
    },
    {
     "data": {
      "text/plain": [
       "True"
      ]
     },
     "execution_count": 11,
     "metadata": {},
     "output_type": "execute_result"
    }
   ],
   "source": [
    "question1=collection.find({},{\"name\":1}).sort([(\"pledged\", -1)]).limit(5)\n",
    "question1=[project[\"name\"] for project in list(question1)]\n",
    "print(question1)\n",
    "question1==list(df_ks.sort_values(\"pledged\",ascending=False).head().name)"
   ]
  },
  {
   "cell_type": "markdown",
   "metadata": {},
   "source": [
    "## Question 2\n",
    "\n",
    "On compte le nombre de projet ayant atteint leur but.                        \n",
    "On sélectionne les documents ayant pledged>=goal puis on les dénombre avec la requête suivante."
   ]
  },
  {
   "cell_type": "code",
   "execution_count": 12,
   "metadata": {},
   "outputs": [
    {
     "name": "stdout",
     "output_type": "stream",
     "text": [
      "54264\n"
     ]
    },
    {
     "data": {
      "text/plain": [
       "True"
      ]
     },
     "execution_count": 12,
     "metadata": {},
     "output_type": "execute_result"
    }
   ],
   "source": [
    "question2=collection.find({\"$where\": \"this.pledged>=this.goal\" })\n",
    "question2=len(list(question2))\n",
    "print(question2)\n",
    "question2==len(df_ks.query(\"pledged>=goal\"))"
   ]
  },
  {
   "cell_type": "markdown",
   "metadata": {},
   "source": [
    "## Question 3\n",
    "On compte le nombre de projet par catégorie.                                      \n",
    "On regroupe les documents par category puis on les dénombre avec la requête suivante."
   ]
  },
  {
   "cell_type": "code",
   "execution_count": 13,
   "metadata": {},
   "outputs": [
    {
     "name": "stdout",
     "output_type": "stream",
     "text": [
      "Product Design     8886\n",
      "Documentary        6498\n",
      "Music              6229\n",
      "Tabletop Games     5581\n",
      "Shorts             4857\n",
      "                   ... \n",
      "Quilts               32\n",
      "Letterpress          24\n",
      "Literary Spaces      10\n",
      "Chiptune             10\n",
      "Taxidermy             7\n",
      "Name: category, Length: 159, dtype: int64\n",
      "True\n"
     ]
    }
   ],
   "source": [
    "question3=collection.aggregate([{\"$group\" : {\"_id\" : \"$category\", \"projectNumberByCategory\" : {\"$sum\" : 1}}}])\n",
    "question3=dict([(project[\"_id\"],project[\"projectNumberByCategory\"]) for project in list(question3)])\n",
    "\n",
    "good_answer=df_ks.category.value_counts()\n",
    "print(good_answer,end=\"\\n\")\n",
    "verif=True\n",
    "for cat in question3.keys():\n",
    "    if question3[cat]!=good_answer.loc[cat]:\n",
    "        verif=False\n",
    "        break\n",
    "print(verif)"
   ]
  },
  {
   "cell_type": "markdown",
   "metadata": {},
   "source": [
    "## Question 4\n",
    "On compte le nombre de projets français ayant été instanciés avant 2016.                       \n",
    "On sélectionne les documents ayant lauched.year<2016 et country=='FR' puis on les dénombre avec la requête suivante."
   ]
  },
  {
   "cell_type": "code",
   "execution_count": 14,
   "metadata": {},
   "outputs": [
    {
     "name": "stdout",
     "output_type": "stream",
     "text": [
      "330\n"
     ]
    },
    {
     "data": {
      "text/plain": [
       "True"
      ]
     },
     "execution_count": 14,
     "metadata": {},
     "output_type": "execute_result"
    }
   ],
   "source": [
    "end = datetime(2015, 12, 31, 23, 59, 59)\n",
    "question4=collection.find({\"$and\":[{\"country\":\"FR\"},{\"launched\": {\"$lte\": end}}]},{\"launched\":1})\n",
    "question4=len(list(question4))\n",
    "print(question4)\n",
    "\n",
    "good_answer=len((df_ks[df_ks.launched.apply(lambda x: x.year<2016)]).query(\"country=='FR'\"))\n",
    "question4==good_answer"
   ]
  },
  {
   "cell_type": "markdown",
   "metadata": {},
   "source": [
    "## Question 5\n",
    "\n",
    "On récupère les projets américains ayant demandé plus de 200 000 dollars.                      \n",
    "On sélectionne les documents ayant goal>200000 et country=='US' avec la requête suivante."
   ]
  },
  {
   "cell_type": "code",
   "execution_count": 15,
   "metadata": {},
   "outputs": [
    {
     "name": "stdout",
     "output_type": "stream",
     "text": [
      "['A CALL TO ADVENTURE', 'Storybricks, the storytelling online RPG', 'Shine On New World', 'Nightclub', 'Nastaran (Wild Rose)', 'Hubo - Extension Box for iPhone', 'Baja ATV Park (Suspended)', 'Chihuly Installation for Orlando (Pulse Nightclub)', 'Kurt Vonnegut: Unstuck in Time', 'The LAKE HOPPER is a VTOL Flying Water Craft Made in America', '...']\n"
     ]
    },
    {
     "data": {
      "text/plain": [
       "True"
      ]
     },
     "execution_count": 15,
     "metadata": {},
     "output_type": "execute_result"
    }
   ],
   "source": [
    "question5=collection.find({\"$and\":[{\"goal\":{\"$gt\":200000}},{\"country\":\"US\"}]},{\"name\":1,\"goal\":1})\n",
    "question5=[project[\"name\"] for project in list(question5)]\n",
    "print(question5[0:10]+[\"...\"])\n",
    "\n",
    "question5==list(df_ks.query(\"country=='US' & goal>200000\").name)"
   ]
  },
  {
   "cell_type": "markdown",
   "metadata": {},
   "source": [
    "## Question 6\n",
    "\n",
    "On compte le nombre de projet ayant \"Sport\" dans leur nom.                              \n",
    "On crée un index textuel sur name puis on sélectionne les documents comportant 'Sport' dans name avec l'opérateur $text dans la requête suivante."
   ]
  },
  {
   "cell_type": "code",
   "execution_count": 16,
   "metadata": {},
   "outputs": [
    {
     "name": "stdout",
     "output_type": "stream",
     "text": [
      "['Sport Smart. A New Genre of Sports TV. Sport Fans Unite!!!', 'Frey Sports App - We connect sports people.', 'Daily Fantasy Sports | Sports Analytics Platform | DFS', 'Intro To: Sports Tech and THE Sports Techie Online Community', 'A New Sport Show For The New Generation of Sports Fans!', 'Odds Hacker - Sports Betting and Fantasy Sports Predictions', 'Elite-Sports-Worldwide- presents all around sports socks!', 'sport to go: Le sport partout et sans engagement!', 'S2SA - Sport to Strap Adapter for Samsung Gear S2 Sport (3G)', \"Sports Liberated l Free women's sport lifestyle magazine app\", 'Zumer Sport:Lunch Boxes Made From Actual Sport Ball Material', 'Sports podcast', 'Skyline Sports', 'Sports Court', 'Sport Contender', 'The Sport of Photography', 'Sports And The City', 'Sports Stream', 'Universal sports', 'Utility Sports', '...']\n",
      "\n",
      "318\n"
     ]
    }
   ],
   "source": [
    "collection.create_index([(\"name\",\"text\")])\n",
    "question6=collection.find({\"$text\": {\"$search\": \"Sport\"}},{\"name\":1})\n",
    "question6=[projet[\"name\"] for projet in list(question6)]\n",
    "print(question6[0:20]+[\"...\"],len(question6),sep=2*\"\\n\")"
   ]
  }
 ],
 "metadata": {
  "kernelspec": {
   "display_name": "Python 3",
   "language": "python",
   "name": "python3"
  },
  "language_info": {
   "codemirror_mode": {
    "name": "ipython",
    "version": 3
   },
   "file_extension": ".py",
   "mimetype": "text/x-python",
   "name": "python",
   "nbconvert_exporter": "python",
   "pygments_lexer": "ipython3",
   "version": "3.8.6"
  }
 },
 "nbformat": 4,
 "nbformat_minor": 2
}
