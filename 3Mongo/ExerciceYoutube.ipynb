{
 "cells": [
  {
   "cell_type": "markdown",
   "metadata": {},
   "source": [
    "# Consignes\n",
    "\n",
    "Intégrer le fichier USvideos.csv qui représente un ensemble de 8000 vidéos Youtube. \n",
    "\n",
    "Merger le fichier US_category_id.json pour récupérer le nom des catégories. Il conviendra de bien spécifier l'ID du document.\n",
    "\n",
    "\n",
    "# Questions \n",
    "- 1) Récupérer toutes les vidéos de la chaîne Apple.\n",
    "- 2) Compter le nombre de catégories différentes\n",
    "- 3) Si vous ne l'avez pas déjà fait, découper les tags en listes et mettre à jour les tags de chacun des documents avec une requête update.\n",
    "- 4) Récupérer les vidéos les plus vues.\n",
    "- 5) Compter le nombre moyen de vues en fonction de la catégorie.\n",
    "- 6) Récupérer les chaines Youtube avec la plus grande moyenne de likes."
   ]
  },
  {
   "cell_type": "code",
   "execution_count": 1,
   "metadata": {},
   "outputs": [],
   "source": [
    "import json\n",
    "import pandas as pd\n",
    "import pymongo\n",
    "from datetime import datetime"
   ]
  },
  {
   "cell_type": "code",
   "execution_count": 2,
   "metadata": {},
   "outputs": [],
   "source": [
    "client = pymongo.MongoClient(\"mongo\")\n",
    "database = client['exercices']\n",
    "collection = database['youtube']"
   ]
  },
  {
   "cell_type": "code",
   "execution_count": 3,
   "metadata": {},
   "outputs": [
    {
     "data": {
      "text/html": [
       "<div>\n",
       "<style scoped>\n",
       "    .dataframe tbody tr th:only-of-type {\n",
       "        vertical-align: middle;\n",
       "    }\n",
       "\n",
       "    .dataframe tbody tr th {\n",
       "        vertical-align: top;\n",
       "    }\n",
       "\n",
       "    .dataframe thead th {\n",
       "        text-align: right;\n",
       "    }\n",
       "</style>\n",
       "<table border=\"1\" class=\"dataframe\">\n",
       "  <thead>\n",
       "    <tr style=\"text-align: right;\">\n",
       "      <th></th>\n",
       "      <th>video_id</th>\n",
       "      <th>title</th>\n",
       "      <th>channel_title</th>\n",
       "      <th>category_id</th>\n",
       "      <th>tags</th>\n",
       "      <th>views</th>\n",
       "      <th>likes</th>\n",
       "      <th>dislikes</th>\n",
       "      <th>comment_total</th>\n",
       "      <th>thumbnail_link</th>\n",
       "      <th>date</th>\n",
       "    </tr>\n",
       "  </thead>\n",
       "  <tbody>\n",
       "    <tr>\n",
       "      <th>0</th>\n",
       "      <td>XpVt6Z1Gjjo</td>\n",
       "      <td>1 YEAR OF VLOGGING -- HOW LOGAN PAUL CHANGED Y...</td>\n",
       "      <td>Logan Paul Vlogs</td>\n",
       "      <td>24</td>\n",
       "      <td>logan paul vlog|logan paul|logan|paul|olympics...</td>\n",
       "      <td>4394029</td>\n",
       "      <td>320053</td>\n",
       "      <td>5931</td>\n",
       "      <td>46245</td>\n",
       "      <td>https://i.ytimg.com/vi/XpVt6Z1Gjjo/default.jpg</td>\n",
       "      <td>13.09</td>\n",
       "    </tr>\n",
       "    <tr>\n",
       "      <th>1</th>\n",
       "      <td>K4wEI5zhHB0</td>\n",
       "      <td>iPhone X — Introducing iPhone X — Apple</td>\n",
       "      <td>Apple</td>\n",
       "      <td>28</td>\n",
       "      <td>Apple|iPhone 10|iPhone Ten|iPhone|Portrait Lig...</td>\n",
       "      <td>7860119</td>\n",
       "      <td>185853</td>\n",
       "      <td>26679</td>\n",
       "      <td>0</td>\n",
       "      <td>https://i.ytimg.com/vi/K4wEI5zhHB0/default.jpg</td>\n",
       "      <td>13.09</td>\n",
       "    </tr>\n",
       "    <tr>\n",
       "      <th>2</th>\n",
       "      <td>cLdxuaxaQwc</td>\n",
       "      <td>My Response</td>\n",
       "      <td>PewDiePie</td>\n",
       "      <td>22</td>\n",
       "      <td>[none]</td>\n",
       "      <td>5845909</td>\n",
       "      <td>576597</td>\n",
       "      <td>39774</td>\n",
       "      <td>170708</td>\n",
       "      <td>https://i.ytimg.com/vi/cLdxuaxaQwc/default.jpg</td>\n",
       "      <td>13.09</td>\n",
       "    </tr>\n",
       "    <tr>\n",
       "      <th>3</th>\n",
       "      <td>WYYvHb03Eog</td>\n",
       "      <td>Apple iPhone X first look</td>\n",
       "      <td>The Verge</td>\n",
       "      <td>28</td>\n",
       "      <td>apple iphone x hands on|Apple iPhone X|iPhone ...</td>\n",
       "      <td>2642103</td>\n",
       "      <td>24975</td>\n",
       "      <td>4542</td>\n",
       "      <td>12829</td>\n",
       "      <td>https://i.ytimg.com/vi/WYYvHb03Eog/default.jpg</td>\n",
       "      <td>13.09</td>\n",
       "    </tr>\n",
       "    <tr>\n",
       "      <th>4</th>\n",
       "      <td>sjlHnJvXdQs</td>\n",
       "      <td>iPhone X (parody)</td>\n",
       "      <td>jacksfilms</td>\n",
       "      <td>23</td>\n",
       "      <td>jacksfilms|parody|parodies|iphone|iphone x|iph...</td>\n",
       "      <td>1168130</td>\n",
       "      <td>96666</td>\n",
       "      <td>568</td>\n",
       "      <td>6666</td>\n",
       "      <td>https://i.ytimg.com/vi/sjlHnJvXdQs/default.jpg</td>\n",
       "      <td>13.09</td>\n",
       "    </tr>\n",
       "  </tbody>\n",
       "</table>\n",
       "</div>"
      ],
      "text/plain": [
       "      video_id                                              title  \\\n",
       "0  XpVt6Z1Gjjo  1 YEAR OF VLOGGING -- HOW LOGAN PAUL CHANGED Y...   \n",
       "1  K4wEI5zhHB0            iPhone X — Introducing iPhone X — Apple   \n",
       "2  cLdxuaxaQwc                                        My Response   \n",
       "3  WYYvHb03Eog                          Apple iPhone X first look   \n",
       "4  sjlHnJvXdQs                                  iPhone X (parody)   \n",
       "\n",
       "      channel_title  category_id  \\\n",
       "0  Logan Paul Vlogs           24   \n",
       "1             Apple           28   \n",
       "2         PewDiePie           22   \n",
       "3         The Verge           28   \n",
       "4        jacksfilms           23   \n",
       "\n",
       "                                                tags    views   likes  \\\n",
       "0  logan paul vlog|logan paul|logan|paul|olympics...  4394029  320053   \n",
       "1  Apple|iPhone 10|iPhone Ten|iPhone|Portrait Lig...  7860119  185853   \n",
       "2                                             [none]  5845909  576597   \n",
       "3  apple iphone x hands on|Apple iPhone X|iPhone ...  2642103   24975   \n",
       "4  jacksfilms|parody|parodies|iphone|iphone x|iph...  1168130   96666   \n",
       "\n",
       "   dislikes  comment_total                                  thumbnail_link  \\\n",
       "0      5931          46245  https://i.ytimg.com/vi/XpVt6Z1Gjjo/default.jpg   \n",
       "1     26679              0  https://i.ytimg.com/vi/K4wEI5zhHB0/default.jpg   \n",
       "2     39774         170708  https://i.ytimg.com/vi/cLdxuaxaQwc/default.jpg   \n",
       "3      4542          12829  https://i.ytimg.com/vi/WYYvHb03Eog/default.jpg   \n",
       "4       568           6666  https://i.ytimg.com/vi/sjlHnJvXdQs/default.jpg   \n",
       "\n",
       "    date  \n",
       "0  13.09  \n",
       "1  13.09  \n",
       "2  13.09  \n",
       "3  13.09  \n",
       "4  13.09  "
      ]
     },
     "execution_count": 3,
     "metadata": {},
     "output_type": "execute_result"
    }
   ],
   "source": [
    "df_youtube = pd.read_csv(\"./data/USvideos.csv\",low_memory=True)\n",
    "df_youtube.head()"
   ]
  },
  {
   "cell_type": "markdown",
   "metadata": {},
   "source": [
    "## Question 0\n",
    "\n",
    "On regarde les types attribués nativement aux variables."
   ]
  },
  {
   "cell_type": "code",
   "execution_count": 4,
   "metadata": {},
   "outputs": [
    {
     "name": "stdout",
     "output_type": "stream",
     "text": [
      "<class 'pandas.core.frame.DataFrame'>\n",
      "RangeIndex: 7992 entries, 0 to 7991\n",
      "Data columns (total 11 columns):\n",
      " #   Column          Non-Null Count  Dtype  \n",
      "---  ------          --------------  -----  \n",
      " 0   video_id        7992 non-null   object \n",
      " 1   title           7992 non-null   object \n",
      " 2   channel_title   7992 non-null   object \n",
      " 3   category_id     7992 non-null   int64  \n",
      " 4   tags            7992 non-null   object \n",
      " 5   views           7992 non-null   int64  \n",
      " 6   likes           7992 non-null   int64  \n",
      " 7   dislikes        7992 non-null   int64  \n",
      " 8   comment_total   7992 non-null   int64  \n",
      " 9   thumbnail_link  7992 non-null   object \n",
      " 10  date            7992 non-null   float64\n",
      "dtypes: float64(1), int64(5), object(5)\n",
      "memory usage: 686.9+ KB\n"
     ]
    }
   ],
   "source": [
    "df_youtube.info()"
   ]
  },
  {
   "cell_type": "markdown",
   "metadata": {},
   "source": [
    "### Nettoyer les données\n",
    "\n",
    "On crée la variable tags_list contenant les tags sous forme de listes."
   ]
  },
  {
   "cell_type": "code",
   "execution_count": 5,
   "metadata": {},
   "outputs": [
    {
     "name": "stdout",
     "output_type": "stream",
     "text": [
      "<class 'pandas.core.frame.DataFrame'>\n",
      "RangeIndex: 7992 entries, 0 to 7991\n",
      "Data columns (total 12 columns):\n",
      " #   Column          Non-Null Count  Dtype  \n",
      "---  ------          --------------  -----  \n",
      " 0   video_id        7992 non-null   object \n",
      " 1   title           7992 non-null   object \n",
      " 2   channel_title   7992 non-null   object \n",
      " 3   category_id     7992 non-null   int64  \n",
      " 4   tags            7992 non-null   object \n",
      " 5   views           7992 non-null   int64  \n",
      " 6   likes           7992 non-null   int64  \n",
      " 7   dislikes        7992 non-null   int64  \n",
      " 8   comment_total   7992 non-null   int64  \n",
      " 9   thumbnail_link  7992 non-null   object \n",
      " 10  date            7992 non-null   float64\n",
      " 11  tags_list       7992 non-null   object \n",
      "dtypes: float64(1), int64(5), object(6)\n",
      "memory usage: 749.4+ KB\n"
     ]
    }
   ],
   "source": [
    "df_youtube[\"tags_list\"]=df_youtube[\"tags\"].apply(lambda x:x.split(\"|\"))\n",
    "df_youtube.info()"
   ]
  },
  {
   "cell_type": "markdown",
   "metadata": {},
   "source": [
    "On merge df_youtube avec le fichier US_category_id.json pour récupérer le nom des catégories.             \n",
    "Pour cela, on crée un dataframe category à partir des champs id et snippet.title de ce json.               \n",
    "On merge ensuite category et df_youtube selon les category_id.                        "
   ]
  },
  {
   "cell_type": "code",
   "execution_count": 6,
   "metadata": {},
   "outputs": [
    {
     "data": {
      "text/html": [
       "<div>\n",
       "<style scoped>\n",
       "    .dataframe tbody tr th:only-of-type {\n",
       "        vertical-align: middle;\n",
       "    }\n",
       "\n",
       "    .dataframe tbody tr th {\n",
       "        vertical-align: top;\n",
       "    }\n",
       "\n",
       "    .dataframe thead th {\n",
       "        text-align: right;\n",
       "    }\n",
       "</style>\n",
       "<table border=\"1\" class=\"dataframe\">\n",
       "  <thead>\n",
       "    <tr style=\"text-align: right;\">\n",
       "      <th></th>\n",
       "      <th>category_id</th>\n",
       "      <th>category_name</th>\n",
       "    </tr>\n",
       "  </thead>\n",
       "  <tbody>\n",
       "    <tr>\n",
       "      <th>0</th>\n",
       "      <td>1</td>\n",
       "      <td>Film &amp; Animation</td>\n",
       "    </tr>\n",
       "    <tr>\n",
       "      <th>1</th>\n",
       "      <td>2</td>\n",
       "      <td>Autos &amp; Vehicles</td>\n",
       "    </tr>\n",
       "    <tr>\n",
       "      <th>2</th>\n",
       "      <td>10</td>\n",
       "      <td>Music</td>\n",
       "    </tr>\n",
       "    <tr>\n",
       "      <th>3</th>\n",
       "      <td>15</td>\n",
       "      <td>Pets &amp; Animals</td>\n",
       "    </tr>\n",
       "    <tr>\n",
       "      <th>4</th>\n",
       "      <td>17</td>\n",
       "      <td>Sports</td>\n",
       "    </tr>\n",
       "  </tbody>\n",
       "</table>\n",
       "</div>"
      ],
      "text/plain": [
       "   category_id     category_name\n",
       "0            1  Film & Animation\n",
       "1            2  Autos & Vehicles\n",
       "2           10             Music\n",
       "3           15    Pets & Animals\n",
       "4           17            Sports"
      ]
     },
     "execution_count": 6,
     "metadata": {},
     "output_type": "execute_result"
    }
   ],
   "source": [
    "with open('./data/US_category_id.json', 'r') as f:\n",
    "    category = json.load(f)\n",
    "\n",
    "category = pd.json_normalize(category['items'])\n",
    "category = category.drop(['kind','etag','snippet.channelId','snippet.assignable'],axis='columns')\n",
    "category.columns=[\"category_id\",\"category_name\"]\n",
    "category[\"category_id\"]=category[\"category_id\"].astype(\"int\")\n",
    "category.head()"
   ]
  },
  {
   "cell_type": "code",
   "execution_count": 7,
   "metadata": {},
   "outputs": [
    {
     "data": {
      "text/html": [
       "<div>\n",
       "<style scoped>\n",
       "    .dataframe tbody tr th:only-of-type {\n",
       "        vertical-align: middle;\n",
       "    }\n",
       "\n",
       "    .dataframe tbody tr th {\n",
       "        vertical-align: top;\n",
       "    }\n",
       "\n",
       "    .dataframe thead th {\n",
       "        text-align: right;\n",
       "    }\n",
       "</style>\n",
       "<table border=\"1\" class=\"dataframe\">\n",
       "  <thead>\n",
       "    <tr style=\"text-align: right;\">\n",
       "      <th></th>\n",
       "      <th>video_id</th>\n",
       "      <th>title</th>\n",
       "      <th>channel_title</th>\n",
       "      <th>category_id</th>\n",
       "      <th>tags</th>\n",
       "      <th>views</th>\n",
       "      <th>likes</th>\n",
       "      <th>dislikes</th>\n",
       "      <th>comment_total</th>\n",
       "      <th>thumbnail_link</th>\n",
       "      <th>date</th>\n",
       "      <th>tags_list</th>\n",
       "      <th>category_name</th>\n",
       "    </tr>\n",
       "  </thead>\n",
       "  <tbody>\n",
       "    <tr>\n",
       "      <th>0</th>\n",
       "      <td>XpVt6Z1Gjjo</td>\n",
       "      <td>1 YEAR OF VLOGGING -- HOW LOGAN PAUL CHANGED Y...</td>\n",
       "      <td>Logan Paul Vlogs</td>\n",
       "      <td>24</td>\n",
       "      <td>logan paul vlog|logan paul|logan|paul|olympics...</td>\n",
       "      <td>4394029</td>\n",
       "      <td>320053</td>\n",
       "      <td>5931</td>\n",
       "      <td>46245</td>\n",
       "      <td>https://i.ytimg.com/vi/XpVt6Z1Gjjo/default.jpg</td>\n",
       "      <td>13.09</td>\n",
       "      <td>[logan paul vlog, logan paul, logan, paul, oly...</td>\n",
       "      <td>Entertainment</td>\n",
       "    </tr>\n",
       "    <tr>\n",
       "      <th>1</th>\n",
       "      <td>K4wEI5zhHB0</td>\n",
       "      <td>iPhone X — Introducing iPhone X — Apple</td>\n",
       "      <td>Apple</td>\n",
       "      <td>28</td>\n",
       "      <td>Apple|iPhone 10|iPhone Ten|iPhone|Portrait Lig...</td>\n",
       "      <td>7860119</td>\n",
       "      <td>185853</td>\n",
       "      <td>26679</td>\n",
       "      <td>0</td>\n",
       "      <td>https://i.ytimg.com/vi/K4wEI5zhHB0/default.jpg</td>\n",
       "      <td>13.09</td>\n",
       "      <td>[Apple, iPhone 10, iPhone Ten, iPhone, Portrai...</td>\n",
       "      <td>Science &amp; Technology</td>\n",
       "    </tr>\n",
       "  </tbody>\n",
       "</table>\n",
       "</div>"
      ],
      "text/plain": [
       "      video_id                                              title  \\\n",
       "0  XpVt6Z1Gjjo  1 YEAR OF VLOGGING -- HOW LOGAN PAUL CHANGED Y...   \n",
       "1  K4wEI5zhHB0            iPhone X — Introducing iPhone X — Apple   \n",
       "\n",
       "      channel_title  category_id  \\\n",
       "0  Logan Paul Vlogs           24   \n",
       "1             Apple           28   \n",
       "\n",
       "                                                tags    views   likes  \\\n",
       "0  logan paul vlog|logan paul|logan|paul|olympics...  4394029  320053   \n",
       "1  Apple|iPhone 10|iPhone Ten|iPhone|Portrait Lig...  7860119  185853   \n",
       "\n",
       "   dislikes  comment_total                                  thumbnail_link  \\\n",
       "0      5931          46245  https://i.ytimg.com/vi/XpVt6Z1Gjjo/default.jpg   \n",
       "1     26679              0  https://i.ytimg.com/vi/K4wEI5zhHB0/default.jpg   \n",
       "\n",
       "    date                                          tags_list  \\\n",
       "0  13.09  [logan paul vlog, logan paul, logan, paul, oly...   \n",
       "1  13.09  [Apple, iPhone 10, iPhone Ten, iPhone, Portrai...   \n",
       "\n",
       "          category_name  \n",
       "0         Entertainment  \n",
       "1  Science & Technology  "
      ]
     },
     "execution_count": 7,
     "metadata": {},
     "output_type": "execute_result"
    }
   ],
   "source": [
    "if \"category_name\" not in list(df_youtube.columns):\n",
    "    df_youtube=df_youtube.merge(category,on=\"category_id\",how=\"left\")\n",
    "df_youtube.head(2)"
   ]
  },
  {
   "cell_type": "markdown",
   "metadata": {},
   "source": [
    "On regarde si video_id peut être utiliser comme identifiants des lignes.                     \n",
    "Pour cela, une valeur donnée de video_id doit être associée à une seule ligne de df_youtube."
   ]
  },
  {
   "cell_type": "code",
   "execution_count": 8,
   "metadata": {},
   "outputs": [
    {
     "data": {
      "text/plain": [
       "False"
      ]
     },
     "execution_count": 8,
     "metadata": {},
     "output_type": "execute_result"
    }
   ],
   "source": [
    "df_youtube.video_id.value_counts().max()==1"
   ]
  },
  {
   "cell_type": "markdown",
   "metadata": {},
   "source": [
    "Dans le cas présent, video_id ne peut pas être utiliser comme identifiant.                          \n",
    "On va donc utiliser l'index du dataframe comme identifiant pour les documents."
   ]
  },
  {
   "cell_type": "code",
   "execution_count": 9,
   "metadata": {},
   "outputs": [
    {
     "name": "stdout",
     "output_type": "stream",
     "text": [
      "<class 'pandas.core.frame.DataFrame'>\n",
      "RangeIndex: 7992 entries, 0 to 7991\n",
      "Data columns (total 14 columns):\n",
      " #   Column          Non-Null Count  Dtype  \n",
      "---  ------          --------------  -----  \n",
      " 0   _id             7992 non-null   int64  \n",
      " 1   video_id        7992 non-null   object \n",
      " 2   title           7992 non-null   object \n",
      " 3   channel_title   7992 non-null   object \n",
      " 4   category_id     7992 non-null   int64  \n",
      " 5   tags            7992 non-null   object \n",
      " 6   views           7992 non-null   int64  \n",
      " 7   likes           7992 non-null   int64  \n",
      " 8   dislikes        7992 non-null   int64  \n",
      " 9   comment_total   7992 non-null   int64  \n",
      " 10  thumbnail_link  7992 non-null   object \n",
      " 11  date            7992 non-null   float64\n",
      " 12  tags_list       7992 non-null   object \n",
      " 13  category_name   7992 non-null   object \n",
      "dtypes: float64(1), int64(6), object(7)\n",
      "memory usage: 874.2+ KB\n"
     ]
    }
   ],
   "source": [
    "df_youtube=df_youtube.reset_index()\n",
    "df_youtube.columns=[col if col!=\"index\" else \"_id\" for col in df_youtube.columns]\n",
    "df_youtube.info()"
   ]
  },
  {
   "cell_type": "markdown",
   "metadata": {
    "slideshow": {
     "slide_type": "slide"
    }
   },
   "source": [
    "### Importer les données\n",
    "\n",
    "\n",
    "On transforme chaque ligne de df_youtube en dictionnaire avec la fonction suivante."
   ]
  },
  {
   "cell_type": "code",
   "execution_count": 10,
   "metadata": {},
   "outputs": [
    {
     "name": "stdout",
     "output_type": "stream",
     "text": [
      "7992\n",
      "\n",
      "{'_id': 0, 'video_id': 'XpVt6Z1Gjjo', 'title': '1 YEAR OF VLOGGING -- HOW LOGAN PAUL CHANGED YOUTUBE FOREVER!', 'channel_title': 'Logan Paul Vlogs', 'category_name': 'Entertainment', 'tags': 'logan paul vlog|logan paul|logan|paul|olympics|logan paul youtube|vlog|daily|comedy|hollywood|parrot|maverick|bird|maverick clothes|diamond play button|logan paul diamond play button|10M subscribers|logan paul 1 year vlogging|1 year vlog|dwarf mamba play button|logan paul history|youtube history|10M|10M plaque|youtube button|diamond button|logang|logang 4 life', 'views': 4394029, 'likes': 320053}\n"
     ]
    }
   ],
   "source": [
    "def to_documents(df,col_list='all'):\n",
    "    \"\"\"\n",
    "    Transformation des lignes du dataframe df en \n",
    "    plusieurs dictionnaires\n",
    "\n",
    "    Args:\n",
    "        df: nom du dataframe à convertir\n",
    "        col_list: liste des variables à exporter\n",
    "\n",
    "    Returns:\n",
    "        liste de dictionnaires issus de la conversion\n",
    "    \"\"\"\n",
    "    if type(col_list)==type([]) and len(col_list)!=0:\n",
    "        df=df.copy()[col_list]\n",
    "    DOCUMENTS=df.to_dict(orient='records')\n",
    "    return DOCUMENTS\n",
    "\n",
    "DOCUMENTS=to_documents(df_youtube,['_id','video_id','title','channel_title','category_name','tags','views','likes'])\n",
    "print(len(DOCUMENTS),DOCUMENTS[0],sep=2*\"\\n\")"
   ]
  },
  {
   "cell_type": "markdown",
   "metadata": {},
   "source": [
    "On insère ensuite les dictionnaires dans la collection."
   ]
  },
  {
   "cell_type": "code",
   "execution_count": 11,
   "metadata": {},
   "outputs": [
    {
     "data": {
      "text/plain": [
       "{'_id': 0,\n",
       " 'video_id': 'XpVt6Z1Gjjo',\n",
       " 'title': '1 YEAR OF VLOGGING -- HOW LOGAN PAUL CHANGED YOUTUBE FOREVER!',\n",
       " 'channel_title': 'Logan Paul Vlogs',\n",
       " 'category_name': 'Entertainment',\n",
       " 'tags': 'logan paul vlog|logan paul|logan|paul|olympics|logan paul youtube|vlog|daily|comedy|hollywood|parrot|maverick|bird|maverick clothes|diamond play button|logan paul diamond play button|10M subscribers|logan paul 1 year vlogging|1 year vlog|dwarf mamba play button|logan paul history|youtube history|10M|10M plaque|youtube button|diamond button|logang|logang 4 life',\n",
       " 'views': 4394029,\n",
       " 'likes': 320053}"
      ]
     },
     "execution_count": 11,
     "metadata": {},
     "output_type": "execute_result"
    }
   ],
   "source": [
    "collection.drop()\n",
    "collection.insert_many(DOCUMENTS)\n",
    "collection.find_one()"
   ]
  },
  {
   "cell_type": "markdown",
   "metadata": {},
   "source": [
    "## Question 1  \n",
    "\n",
    "On va récupérer toutes les vidéos de la chaîne Apple.                            \n",
    "On regroupe par title les documents ayant channel_title=='Apple' avec le requête suivante."
   ]
  },
  {
   "cell_type": "code",
   "execution_count": 12,
   "metadata": {},
   "outputs": [
    {
     "name": "stdout",
     "output_type": "stream",
     "text": [
      "['iPhone 8 Plus — Portraits of Her  — Apple', 'iPhone X — Introducing iPhone X — Apple', 'Apple Watch Series 3 + Apple Music — Roll — Apple']\n"
     ]
    },
    {
     "data": {
      "text/plain": [
       "True"
      ]
     },
     "execution_count": 12,
     "metadata": {},
     "output_type": "execute_result"
    }
   ],
   "source": [
    "question1 = collection.aggregate([{\"$match\": {\"channel_title\":\"Apple\"}},\n",
    "                                  {\"$group\" : {\"_id\" : \"$title\"}}])\n",
    "question1=[video[\"_id\"] for video in list(question1)]\n",
    "print(question1)\n",
    "\n",
    "set(question1)==set(list(df_youtube.query(\"channel_title=='Apple'\").title.unique()))"
   ]
  },
  {
   "cell_type": "markdown",
   "metadata": {},
   "source": [
    "## Question 2\n",
    "\n",
    "On va compter le nombre de catégories différentes.                                        \n",
    "On regroupe les documents par category_name et on renvoie la liste des category_name sans doublons avec la requête suivante."
   ]
  },
  {
   "cell_type": "code",
   "execution_count": 13,
   "metadata": {},
   "outputs": [
    {
     "name": "stdout",
     "output_type": "stream",
     "text": [
      "['Autos & Vehicles', 'Comedy', 'Education', 'Entertainment', 'Film & Animation', 'Gaming', 'Howto & Style', 'Music', 'News & Politics', 'Nonprofits & Activism', 'People & Blogs', 'Pets & Animals', 'Science & Technology', 'Shows', 'Sports', 'Travel & Events']\n",
      "\n",
      "16\n"
     ]
    },
    {
     "data": {
      "text/plain": [
       "True"
      ]
     },
     "execution_count": 13,
     "metadata": {},
     "output_type": "execute_result"
    }
   ],
   "source": [
    "question2=collection.aggregate([{\"$group\" : {\"_id\" : \"$category_name\"}}])\n",
    "question2=sorted([cat[\"_id\"] for cat in list(question2)])\n",
    "print(question2,len(question2),sep=2*\"\\n\")\n",
    "\n",
    "set(question2)==set(df_youtube.category_name.unique())"
   ]
  },
  {
   "cell_type": "markdown",
   "metadata": {},
   "source": [
    "## Question 3\n",
    "\n",
    "On met les tags sous la forme d'une liste.                              \n",
    "On crée pour chaque document, sa liste de tags à partir de la fonction map_reduce()"
   ]
  },
  {
   "cell_type": "code",
   "execution_count": 14,
   "metadata": {},
   "outputs": [
    {
     "name": "stdout",
     "output_type": "stream",
     "text": [
      "True\n"
     ]
    }
   ],
   "source": [
    "map_func = '''function(){emit(this._id,this.tags)}'''\n",
    "reduce_func = '''function(key,values){return values.toString().split(\"|\")}'''\n",
    "out = '''{out:\"tags_list\"}'''\n",
    "tags_list = collection.map_reduce(map_func,reduce_func,out)\n",
    "tags_list = dict([(video[\"_id\"],video[\"value\"]) for video in list(tags_list.find())])\n",
    "\n",
    "good_answer = df_youtube.tags_list.to_dict()\n",
    "verif=True\n",
    "for cat in tags_list.keys():\n",
    "    if tags_list[cat]!=good_answer[cat]:\n",
    "        verif=False\n",
    "        break\n",
    "print(verif)"
   ]
  },
  {
   "cell_type": "markdown",
   "metadata": {},
   "source": [
    "On remplace ensuite les chaînes de caractères du champs tags par leurs équivalents en listes de chaînes de caractères."
   ]
  },
  {
   "cell_type": "code",
   "execution_count": 15,
   "metadata": {},
   "outputs": [
    {
     "data": {
      "text/plain": [
       "{'_id': 0,\n",
       " 'title': '1 YEAR OF VLOGGING -- HOW LOGAN PAUL CHANGED YOUTUBE FOREVER!',\n",
       " 'tags': ['logan paul vlog',\n",
       "  'logan paul',\n",
       "  'logan',\n",
       "  'paul',\n",
       "  'olympics',\n",
       "  'logan paul youtube',\n",
       "  'vlog',\n",
       "  'daily',\n",
       "  'comedy',\n",
       "  'hollywood',\n",
       "  'parrot',\n",
       "  'maverick',\n",
       "  'bird',\n",
       "  'maverick clothes',\n",
       "  'diamond play button',\n",
       "  'logan paul diamond play button',\n",
       "  '10M subscribers',\n",
       "  'logan paul 1 year vlogging',\n",
       "  '1 year vlog',\n",
       "  'dwarf mamba play button',\n",
       "  'logan paul history',\n",
       "  'youtube history',\n",
       "  '10M',\n",
       "  '10M plaque',\n",
       "  'youtube button',\n",
       "  'diamond button',\n",
       "  'logang',\n",
       "  'logang 4 life']}"
      ]
     },
     "execution_count": 15,
     "metadata": {},
     "output_type": "execute_result"
    }
   ],
   "source": [
    "for i in tags_list.keys(): \n",
    "    collection.update_one({\"_id\":i}, {\"$set\":{\"tags\": tags_list[i]}})\n",
    "question3=list(collection.find({},{'title':1,'tags':1}))\n",
    "question3[0]"
   ]
  },
  {
   "cell_type": "markdown",
   "metadata": {},
   "source": [
    "## Question 4\n",
    "\n",
    "On va récupérer les vidéos les plus vues (les 5 meilleurs).                                    \n",
    "On regroupe les documents par video_id et title, on calcule le nombre maximal de vues par vidéo et on les trie de manière décroissante selon ce nombre avec la requête suivante."
   ]
  },
  {
   "cell_type": "code",
   "execution_count": 16,
   "metadata": {},
   "outputs": [
    {
     "name": "stdout",
     "output_type": "stream",
     "text": [
      "[\"BTS (방탄소년단) 'DNA' Official MV\", 'ZAYN - Dusk Till Dawn ft. Sia', 'Eminem Rips Donald Trump In BET Hip Hop Awards Freestyle Cypher', 'Shakira - Perro Fiel (Official Video) ft. Nicky Jam', 'Star Wars: The Last Jedi Trailer (Official)']\n"
     ]
    },
    {
     "data": {
      "text/plain": [
       "True"
      ]
     },
     "execution_count": 16,
     "metadata": {},
     "output_type": "execute_result"
    }
   ],
   "source": [
    "question4 = collection.aggregate([{\"$group\" : {\"_id\" : {\"ID\":\"$video_id\",\"title\":\"$title\"}, \n",
    "                                               \"maxViewsByVideo\" : {\"$max\" : \"$views\"}}},\n",
    "                                  {\"$sort\": {\"maxViewsByVideo\":-1}},\n",
    "                                  {\"$limit\":5}])\n",
    "\n",
    "question4=[video[\"_id\"][\"title\"] for video in list(question4)]\n",
    "print(question4)\n",
    "\n",
    "good_answer=df_youtube.groupby([\"video_id\",\"title\"]).views.max().reset_index()\n",
    "good_answer=good_answer.sort_values(\"views\",ascending=False).head().title\n",
    "question4==list(good_answer)"
   ]
  },
  {
   "cell_type": "markdown",
   "metadata": {},
   "source": [
    "## Question 5\n",
    "\n",
    "On va calculer le nombre moyen de vues par catégorie de vidéos.                                    \n",
    "On regroupe les documents par video_id et category_name, on calcule le nombre maximal de vues par vidéo.           \n",
    "On regroupe par category_name les documents obtenus à l'étape précédente, on calcule le nombre moyen de vues par catégorie avec la requête suivante."
   ]
  },
  {
   "cell_type": "code",
   "execution_count": 17,
   "metadata": {},
   "outputs": [
    {
     "name": "stdout",
     "output_type": "stream",
     "text": [
      "category_name\n",
      "Autos & Vehicles         6.227279e+05\n",
      "Comedy                   1.317201e+06\n",
      "Education                5.505853e+05\n",
      "Entertainment            1.059428e+06\n",
      "Film & Animation         9.665473e+05\n",
      "Gaming                   7.618923e+05\n",
      "Howto & Style            5.560027e+05\n",
      "Music                    1.444205e+06\n",
      "News & Politics          5.335751e+05\n",
      "Nonprofits & Activism    6.811782e+05\n",
      "People & Blogs           8.901047e+05\n",
      "Pets & Animals           6.339064e+05\n",
      "Science & Technology     8.615636e+05\n",
      "Shows                    8.726000e+03\n",
      "Sports                   6.180747e+05\n",
      "Travel & Events          4.264922e+05\n",
      "Name: views, dtype: float64\n",
      "\n",
      "True\n"
     ]
    }
   ],
   "source": [
    "question5 = collection.aggregate([{\"$group\" : {\"_id\" : {\"category\":\"$category_name\",\"video\":\"$video_id\"} ,\n",
    "                                               \"maxViewsByVideo\" : {\"$max\" : \"$views\"}}},\n",
    "                                  {\"$group\" : {\"_id\":\"$_id.category\",\n",
    "                                               \"averageViewsByCategory\":{\"$avg\":\"$maxViewsByVideo\"}}}])\n",
    "question5=dict([(project[\"_id\"],project[\"averageViewsByCategory\"]) for project in list(question5)])\n",
    "\n",
    "good_answer=df_youtube.groupby([\"category_name\",\"video_id\"]).views.max().reset_index()\n",
    "good_answer=good_answer.groupby(\"category_name\").views.mean()\n",
    "print(good_answer,end=2*\"\\n\")\n",
    "verif=True\n",
    "for cat in question5.keys():\n",
    "    if question5[cat]!=good_answer.loc[cat]:\n",
    "        print(cat)\n",
    "        verif=False\n",
    "        break\n",
    "print(verif)"
   ]
  },
  {
   "cell_type": "markdown",
   "metadata": {},
   "source": [
    "## Question 6\n",
    "\n",
    "On récupère les chaines Youtube avec la plus grande moyenne de likes (les 5 meilleurs).                           \n",
    "On regroupe les documents par channel_title et video_id, on calcule le nombre maximal de likes par vidéo.        \n",
    "On regroupe par channel_title les documents obtenus à l'étape précédente, on calcule la moyenne de likes par chaine puis on les trie de manière décroissante selon ce nombre.   \n",
    "On renvoie ensuite les 5 premières chaines avec la requête suivante."
   ]
  },
  {
   "cell_type": "code",
   "execution_count": 18,
   "metadata": {},
   "outputs": [
    {
     "name": "stdout",
     "output_type": "stream",
     "text": [
      "['ibighit', 'ZaynVEVO', 'BETNetworks', 'melanie martinez', 'jypentertainment']\n"
     ]
    },
    {
     "data": {
      "text/plain": [
       "True"
      ]
     },
     "execution_count": 18,
     "metadata": {},
     "output_type": "execute_result"
    }
   ],
   "source": [
    "question6=collection.aggregate([{\"$group\" : {\"_id\" : {\"channel\":\"$channel_title\",\"video\":\"$video_id\"}, \n",
    "                                             \"maxLikesByVideo\" : {\"$max\" : \"$likes\"}}},\n",
    "                                {\"$group\" : {\"_id\" : \"$_id.channel\", \n",
    "                                             \"averageLikesByChannel\" : {\"$avg\" : \"$maxLikesByVideo\"}}},\n",
    "                                {\"$sort\": {\"averageLikesByChannel\":-1}},\n",
    "                                {\"$limit\":5}])\n",
    "question6=[project[\"_id\"] for project in list(question6)]\n",
    "print(question6)\n",
    "\n",
    "good_answer=df_youtube.groupby([\"channel_title\",\"video_id\"]).likes.max().reset_index()\n",
    "good_answer=good_answer.groupby(\"channel_title\").likes.mean().reset_index()\n",
    "good_answer=good_answer.sort_values(\"likes\",ascending=False).head()\n",
    "question6==list(good_answer.channel_title)"
   ]
  }
 ],
 "metadata": {
  "kernelspec": {
   "display_name": "Python 3",
   "language": "python",
   "name": "python3"
  },
  "language_info": {
   "codemirror_mode": {
    "name": "ipython",
    "version": 3
   },
   "file_extension": ".py",
   "mimetype": "text/x-python",
   "name": "python",
   "nbconvert_exporter": "python",
   "pygments_lexer": "ipython3",
   "version": "3.8.6"
  }
 },
 "nbformat": 4,
 "nbformat_minor": 2
}
