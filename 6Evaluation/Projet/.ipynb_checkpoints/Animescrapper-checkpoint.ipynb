{
 "cells": [
  {
   "cell_type": "markdown",
   "metadata": {},
   "source": [
    "# Scrapping des infos utiles sur les animés"
   ]
  },
  {
   "cell_type": "code",
   "execution_count": 2,
   "metadata": {},
   "outputs": [],
   "source": [
    "# Importation des packages nécessaires\n",
    "import scrapy\n",
    "import pandas as pd"
   ]
  },
  {
   "cell_type": "code",
   "execution_count": 3,
   "metadata": {},
   "outputs": [
    {
     "name": "stdout",
     "output_type": "stream",
     "text": [
      "Error: scrapy.cfg already exists in /home/lcplacide/Documents/DataEngineerTools/6Evaluation/Projet/animescrawler\n"
     ]
    }
   ],
   "source": [
    "# Création du projet Scrappy nommé animescrawler\n",
    "!scrapy startproject animescrawler"
   ]
  },
  {
   "cell_type": "code",
   "execution_count": 4,
   "metadata": {},
   "outputs": [
    {
     "name": "stdout",
     "output_type": "stream",
     "text": [
      "Created spider 'myanimelist' using template 'basic' in module:\n",
      "  {spiders_module.__name__}.{module}\n"
     ]
    }
   ],
   "source": [
    "# Création de la spider myanimelist pour scrapper myanimelist.net\n",
    "!cd animescrawler && scrapy genspider myanimelist myanimelist.net"
   ]
  },
  {
   "cell_type": "markdown",
   "metadata": {},
   "source": [
    "## 1. Récupérer le menu de navigation horizontal de la page https://myanimelist.net/anime.php (#,A,B,....Z)"
   ]
  },
  {
   "cell_type": "code",
   "execution_count": null,
   "metadata": {},
   "outputs": [],
   "source": [
    "scrapy shell 'https://myanimelist.net/anime.php'\n",
    "response.css(\"#horiznav_nav\").css(\"a::text\").extract()\n",
    "In [18]: response.css(\"#horiznav_nav\").css(\"a::attr(href)\").extract()\n",
    "Out[18]: \n",
    "['https://myanimelist.net/anime.php?em=0&ed=0&ey=0&o=2&c%5B0%5D=a&c%5B1%5D=d&cv=1&w=0&sd=24&sm=11&sy=2020',\n",
    " 'https://myanimelist.net/anime.php?o=9&c%5B0%5D=a&c%5B1%5D=d&cv=2&w=1',\n",
    " 'https://myanimelist.net/anime.php?letter=.',\n",
    " 'https://myanimelist.net/anime.php?letter=A',\n",
    " 'https://myanimelist.net/anime.php?letter=B',\n",
    " 'https://myanimelist.net/anime.php?letter=C',\n",
    " 'https://myanimelist.net/anime.php?letter=D',\n",
    " 'https://myanimelist.net/anime.php?letter=E',\n",
    " 'https://myanimelist.net/anime.php?letter=F',\n",
    " 'https://myanimelist.net/anime.php?letter=G',\n",
    " 'https://myanimelist.net/anime.php?letter=H',\n",
    " 'https://myanimelist.net/anime.php?letter=I',\n",
    " 'https://myanimelist.net/anime.php?letter=J',\n",
    " 'https://myanimelist.net/anime.php?letter=K',\n",
    " 'https://myanimelist.net/anime.php?letter=L',\n",
    " 'https://myanimelist.net/anime.php?letter=M',\n",
    " 'https://myanimelist.net/anime.php?letter=N',\n",
    " 'https://myanimelist.net/anime.php?letter=O',\n",
    " 'https://myanimelist.net/anime.php?letter=P',\n",
    " 'https://myanimelist.net/anime.php?letter=Q',\n",
    " 'https://myanimelist.net/anime.php?letter=R',\n",
    " 'https://myanimelist.net/anime.php?letter=S',\n",
    " 'https://myanimelist.net/anime.php?letter=T',\n",
    " 'https://myanimelist.net/anime.php?letter=U',\n",
    " 'https://myanimelist.net/anime.php?letter=V',\n",
    " 'https://myanimelist.net/anime.php?letter=W',\n",
    " 'https://myanimelist.net/anime.php?letter=X',\n",
    " 'https://myanimelist.net/anime.php?letter=Y',\n",
    " 'https://myanimelist.net/anime.php?letter=Z']"
   ]
  },
  {
   "cell_type": "markdown",
   "metadata": {},
   "source": [
    "## 2. Récupération des pages associées à chaque élément du menu de navigation"
   ]
  },
  {
   "cell_type": "code",
   "execution_count": null,
   "metadata": {},
   "outputs": [],
   "source": [
    "scrapy shell 'https://myanimelist.net/anime.php?letter=A'\n",
    "nb_page_A = int(response.css(\".normal_header\").css(\"a::text\").extract()[-1])\n",
    "last_link_page_A = response.urljoin(response.css(\".normal_header\").css(\"a::attr(href)\").extract()[-1]) \n",
    "link_common_part_A = last_link_page_A.replace(\"show=\"+str((nb_page_A-1)*50),\"show=\")\n",
    "all_link_page_A = [ link_common_part_A+str(i) for i in range(0,nb_page_A*50,50)]\n",
    "Out[26]: \n",
    "['https://myanimelist.net/anime.php?letter=A&show=0',\n",
    " 'https://myanimelist.net/anime.php?letter=A&show=50',\n",
    " 'https://myanimelist.net/anime.php?letter=A&show=100',\n",
    " 'https://myanimelist.net/anime.php?letter=A&show=150',\n",
    " 'https://myanimelist.net/anime.php?letter=A&show=200',\n",
    " 'https://myanimelist.net/anime.php?letter=A&show=250',\n",
    " 'https://myanimelist.net/anime.php?letter=A&show=300',\n",
    " 'https://myanimelist.net/anime.php?letter=A&show=350',\n",
    " 'https://myanimelist.net/anime.php?letter=A&show=400',\n",
    " 'https://myanimelist.net/anime.php?letter=A&show=450',\n",
    " 'https://myanimelist.net/anime.php?letter=A&show=500',\n",
    " 'https://myanimelist.net/anime.php?letter=A&show=550',\n",
    " 'https://myanimelist.net/anime.php?letter=A&show=600',\n",
    " 'https://myanimelist.net/anime.php?letter=A&show=650',\n",
    " 'https://myanimelist.net/anime.php?letter=A&show=700',\n",
    " 'https://myanimelist.net/anime.php?letter=A&show=750',\n",
    " 'https://myanimelist.net/anime.php?letter=A&show=800',\n",
    " 'https://myanimelist.net/anime.php?letter=A&show=850',\n",
    " 'https://myanimelist.net/anime.php?letter=A&show=900']"
   ]
  },
  {
   "cell_type": "markdown",
   "metadata": {},
   "source": [
    "## 3. Récupération des pages spécifiques à chaque animé"
   ]
  },
  {
   "cell_type": "code",
   "execution_count": null,
   "metadata": {},
   "outputs": [],
   "source": [
    "scrapy shell 'https://myanimelist.net/anime.php?letter=A&show=0'\n",
    "anime_link_A1 = set(response.css(\".hoverinfo_trigger\").css(\"a::attr(href)\").extract())\n",
    "anime_link_A1=response.xpath(\"//a[@class='hoverinfo_trigger fw-b fl-l']\").css(\"::attr(href)\").extract()\n",
    "\n",
    "Out[18]: \n",
    "{'https://myanimelist.net/anime/1003/Aa_Megami-sama_TV_Specials',\n",
    " 'https://myanimelist.net/anime/10737/A-Channel___A-Channel',\n",
    " 'https://myanimelist.net/anime/11339/A-Channel_smile',\n",
    " 'https://myanimelist.net/anime/1295/A-Ko_The_Versus',\n",
    " 'https://myanimelist.net/anime/1349/AD_Police_TV',\n",
    " 'https://myanimelist.net/anime/17501/Abe_George_Kattobi_Seishun_Ki__Shibuya_Honky_Tonk',\n",
    " 'https://myanimelist.net/anime/2198/Aa_Megami-sama__Sorezore_no_Tsubasa_Specials',\n",
    " 'https://myanimelist.net/anime/22831/Abarenbou_Rikishi_Matsutarou',\n",
    " 'https://myanimelist.net/anime/25397/Absolute_Duo',\n",
    " 'https://myanimelist.net/anime/2884/Aachi_wa_Ssipak',\n",
    " 'https://myanimelist.net/anime/29750/AAA_de_Ikou__Yuuna___Akiko',\n",
    " 'https://myanimelist.net/anime/29902/A_Play',\n",
    " 'https://myanimelist.net/anime/30214/A_Smart_Experiment',\n",
    " 'https://myanimelist.net/anime/303/Aa_Megami-sama__Chichaitte_Koto_wa_Benri_da_ne',\n",
    " 'https://myanimelist.net/anime/304/Aa_Megami-sama_Movie',\n",
    " 'https://myanimelist.net/anime/305/Abashiri_Ikka',\n",
    " 'https://myanimelist.net/anime/306/Abenobashi_Mahou☆Shoutengai',\n",
    " 'https://myanimelist.net/anime/3090/Aa_Megami-sama__Tatakau_Tsubasa',\n",
    " 'https://myanimelist.net/anime/320/A_Kite',\n",
    " 'https://myanimelist.net/anime/32484/A-Size_Classmate',\n",
    " 'https://myanimelist.net/anime/33337/ACCA__13-ku_Kansatsu-ka',\n",
    " 'https://myanimelist.net/anime/3463/ALICE',\n",
    " 'https://myanimelist.net/anime/35285/A-Channel__Nabe_wo_Tabeyou',\n",
    " 'https://myanimelist.net/anime/36039/AICO__Incarnation',\n",
    " 'https://myanimelist.net/anime/36182/Abstract_feat_Alkama',\n",
    " 'https://myanimelist.net/anime/37180/A_Tang_Qi_Yu',\n",
    " 'https://myanimelist.net/anime/37452/A_Woman_in_a_Fashion_Building',\n",
    " 'https://myanimelist.net/anime/38701/Aa___ii',\n",
    " 'https://myanimelist.net/anime/38712/A_Log_Day_of_Timbre',\n",
    " 'https://myanimelist.net/anime/39057/A_New_Journey',\n",
    " 'https://myanimelist.net/anime/39086/A_Christmas_Song',\n",
    " 'https://myanimelist.net/anime/39184/A3_Season_Spring___Summer',\n",
    " 'https://myanimelist.net/anime/39997/Ab-rah',\n",
    " 'https://myanimelist.net/anime/40272/A3_Season_Autumn___Winter',\n",
    " 'https://myanimelist.net/anime/40628/A_Brightening_Life',\n",
    " 'https://myanimelist.net/anime/41319/A_song_for_You_You_You',\n",
    " 'https://myanimelist.net/anime/41449/A_Sea_Doesnt_Tell_Much',\n",
    " 'https://myanimelist.net/anime/42481/A_Day_Before_Us',\n",
    " 'https://myanimelist.net/anime/44040/Abciee_Shuugyou_Nikki',\n",
    " 'https://myanimelist.net/anime/49/Aa_Megami-sama',\n",
    " 'https://myanimelist.net/anime/4934/AF',\n",
    " 'https://myanimelist.net/anime/50/Aa_Megami-sama_TV',\n",
    " 'https://myanimelist.net/anime/5447/A-Girl',\n",
    " 'https://myanimelist.net/anime/5877/Abunai_Sisters__Koko___Mika',\n",
    " 'https://myanimelist.net/anime/6094/A_Piece_of_Phantasmagoria',\n",
    " 'https://myanimelist.net/anime/8216/Aa_Harimanada',\n",
    " 'https://myanimelist.net/anime/880/Aa_Megami-sama__Sorezore_no_Tsubasa',\n",
    " 'https://myanimelist.net/anime/9433/A-jangcom',\n",
    " 'https://myanimelist.net/anime/9611/Aa_Megami-sama_2011',\n",
    " 'https://myanimelist.net/anime/9776/A-Channel'}"
   ]
  },
  {
   "cell_type": "markdown",
   "metadata": {},
   "source": [
    "## 4. Récupération des infos utiles de chaque animé\n",
    "- Main title\n",
    "- Alternative title\n",
    "- Score\n",
    "- Synopsis\n",
    "- Ranked\n",
    "- Popularity\n",
    "- Genres\n",
    "- Producers\n",
    "- Licensors\n",
    "- Studios\n",
    "- Type\n",
    "- Related animes\n",
    "- Duration\n",
    "- Rating\n",
    "- Episode\n",
    "- Status"
   ]
  },
  {
   "cell_type": "code",
   "execution_count": null,
   "metadata": {},
   "outputs": [],
   "source": [
    "scrapy shell 'https://myanimelist.net/anime/1003/Aa_Megami-sama_TV_Specials'\n",
    "main_title = response.css(\"h1\").css(\"strong::text\").extract_first()\n",
    "                          \n",
    "Out[26]: 'Aa! Megami-sama! (TV) Specials'"
   ]
  },
  {
   "cell_type": "code",
   "execution_count": null,
   "metadata": {},
   "outputs": [],
   "source": [
    "scrapy shell 'https://myanimelist.net/anime/1003/Aa_Megami-sama_TV_Specials'\n",
    "other_titles= response.xpath(\"//div[@style='width: 225px']/div[@class='spaceit_pad']/text()\").extract()\n",
    "other_titles = [elt.strip() for elt in alternative_titles if elt.strip()!='']\n",
    "\n",
    "Out[32]: ['Ah! My Goddess! Specials, Aa! Megami-sama! Episodes 12.5, 25 and 26, Oh! My Goddess Specials', 'ああっ女神さまっ']"
   ]
  },
  {
   "cell_type": "code",
   "execution_count": null,
   "metadata": {},
   "outputs": [],
   "source": [
    "scrapy shell 'https://myanimelist.net/anime/1003/Aa_Megami-sama_TV_Specials'\n",
    "score = response.css(\".score-label::text\").extract_first()\n",
    "\n",
    "Out[34]: '7.54'"
   ]
  },
  {
   "cell_type": "code",
   "execution_count": null,
   "metadata": {},
   "outputs": [],
   "source": [
    "scrapy shell 'https://myanimelist.net/anime/1003/Aa_Megami-sama_TV_Specials'\n",
    "synopsis = response.xpath(\"//p[@itemprop='description']\").css(\"::text\").extract()\n",
    "\n",
    "Out[36]: 'Due to the recent events that happened on the last episodes of the season, the Goddess have some stability problems with their body systems. The always adult looking Urd becomes a little girl and has a fateful encounter with a boy, whereas little Skuld becomes an adult and wants to experiment adulthood together with Keiichi.'"
   ]
  },
  {
   "cell_type": "code",
   "execution_count": null,
   "metadata": {},
   "outputs": [],
   "source": [
    "scrapy shell 'https://myanimelist.net/anime/1003/Aa_Megami-sama_TV_Specials'\n",
    "ranked = response.xpath(\"//div[@class='di-ib ml12 pl20 pt8']/span[@class='numbers ranked']/strong/text()\").extract_first()\n",
    "popularity = response.xpath(\"//div[@class='di-ib ml12 pl20 pt8']/span[@class='numbers popularity']/strong/text()\").extract_first()\n",
    "\n",
    "Out[39]: ('#1447', '#3253')"
   ]
  },
  {
   "cell_type": "code",
   "execution_count": null,
   "metadata": {},
   "outputs": [],
   "source": [
    "scrapy shell 'https://myanimelist.net/anime/1003/Aa_Megami-sama_TV_Specials'\n",
    "genres = response.xpath(\"//span[@itemprop='genre']/text()\").extract()\n",
    "\n",
    "Out[42]: ['Magic', 'Comedy', 'Romance', 'Supernatural', 'Seinen']"
   ]
  },
  {
   "cell_type": "code",
   "execution_count": null,
   "metadata": {},
   "outputs": [],
   "source": [
    "scrapy shell 'https://myanimelist.net/anime/1003/Aa_Megami-sama_TV_Specials'\n",
    "producers_licensors_studios = response.xpath(\"//div[@style='width: 225px']\").xpath(\"//a[contains(@href,'/anime/producer')]/text()\").extract()\n",
    "\n",
    "Out[45]: ['Bandai Visual', 'AIC', 'Media Blasters', 'NYAV Post']"
   ]
  },
  {
   "cell_type": "code",
   "execution_count": null,
   "metadata": {},
   "outputs": [],
   "source": [
    "scrapy shell 'https://myanimelist.net/anime/1003/Aa_Megami-sama_TV_Specials'\n",
    "table= response.xpath(\"//table[@class='anime_detail_related_anime']/tr\")\n",
    "related_anime= dict([(tr.css(\"td::text\").extract_first(),tr.css(\"td a::text\").extract()) for tr in table])\n",
    "\n",
    "Out[126]: {'Adaptation': ['Aa! Megami-sama!'], 'Parent story': ['Aa! Megami-sama! (TV)']}"
   ]
  },
  {
   "cell_type": "code",
   "execution_count": 19,
   "metadata": {},
   "outputs": [
    {
     "name": "stdout",
     "output_type": "stream",
     "text": [
      "\n"
     ]
    }
   ],
   "source": [
    "scrapy shell 'https://myanimelist.net/anime/1003/Aa_Megami-sama_TV_Specials'\n",
    "border = response.xpath(\"//div[@style='width: 225px']\")\n",
    "divs= [div for div in border.css(\"div\") if div.css(\"span::text\").extract_first() in [\"Duration:\",\"Rating:\",\"Type:\",\"Episodes:\",\"Status\"]]\n",
    "border_infos=dict([(div.css(\"span::text\").extract_first(),div.css(\"::text\").extract()[-1])for div in divs])\n",
    "\n",
    "Out[4]: \n",
    "{'Type:': 'Special',\n",
    " 'Duration:': '\\n  24 min. per ep.\\n  ',\n",
    " 'Rating:': '\\n  PG-13 - Teens 13 or older\\n  '}"
   ]
  },
  {
   "cell_type": "markdown",
   "metadata": {},
   "source": [
    "## Implémentation de la spider"
   ]
  },
  {
   "cell_type": "code",
   "execution_count": null,
   "metadata": {},
   "outputs": [],
   "source": [
    "# JSON généré par scrapy\n",
    "2020-12-14 21:27:45 [scrapy.core.scraper] DEBUG: Scraped from <200 https://myanimelist.net/anime/28979/To_LOVE-Ru_Darkness_2nd>\n",
    "{'Type': 'TV',\n",
    " 'duration': datetime.time(0, 23),\n",
    " 'episodes': 12,\n",
    " 'genres': ['Comedy',\n",
    "            'Ecchi',\n",
    "            'Harem',\n",
    "            'Romance',\n",
    "            'School',\n",
    "            'Sci-Fi',\n",
    "            'Shounen'],\n",
    " 'main_title': 'To LOVE-Ru Darkness 2nd',\n",
    " 'other_titles': {'To LOVE Ru Darkness 2',\n",
    "                  'To LOVE-Ru Trouble Darkness 2nd',\n",
    "                  'To LOVEる -とらぶる- ダークネス2nd'},\n",
    " 'popularity': 756,\n",
    " 'producers': {'Magic Capsule',\n",
    "               'NBCUniversal Entertainment Japan',\n",
    "               'Sentai Filmworks',\n",
    "               'Shueisha',\n",
    "               'TBS',\n",
    "               'Warner Bros. Japan',\n",
    "               'Xebec'},\n",
    " 'ranked': 1513,\n",
    " 'rating': 'R+ - Mild Nudity',\n",
    " 'related_anime': {'Adaptation': ['To LOVE-Ru Darkness'],\n",
    "                   'Prequel': ['To LOVE-Ru Darkness'],\n",
    "                   'Sequel': ['To LOVE-Ru Darkness 2nd Specials'],\n",
    "                   'Side story': ['To LOVE-Ru Darkness OVA',\n",
    "                                  'To LOVE-Ru Darkness 2nd OVA']},\n",
    " 'score': 7.52,\n",
    " 'status': 'Finished Airing',\n",
    " 'synopsis': 'The dispassionate, transforming assassin Golden Darkness returns '\n",
    "             'to peer deeper into the mysteries surrounding her new life, '\n",
    "             'while a sinister Nemesis manipulates her younger sister Mea from '\n",
    "             'the shadows. Along with their newly discovered mother, Tearju, '\n",
    "             'this previously estranged family quickly becomes the center of '\n",
    "             \"everyone's attention. On the other hand, Princess Momo's Harem \"\n",
    "             \"Plan stands on shaky ground amidst Rito's inability to confess \"\n",
    "             'to his longtime crush Haruna, who has grown feelings of her own. '\n",
    "             \"But things aren't as peaceful as they seem; an evil force looms \"\n",
    "             'amidst the innocuous commotion, threatening to eclipse the love, '\n",
    "             'happiness, and friendship of Rito and his harem. Only the light '\n",
    "             'of love can hope to banish the shadow. [Written by MAL Rewrite]'}"
   ]
  },
  {
   "cell_type": "code",
   "execution_count": null,
   "metadata": {},
   "outputs": [],
   "source": [
    "# Résultat final attendu\n",
    "{'downloader/request_bytes': 5797405,\n",
    " 'downloader/request_count': 15546, # Nombre total de pages à parcourir: 15546\n",
    " 'downloader/request_method_count/GET': 15546,\n",
    " 'downloader/response_bytes': 1496636872,\n",
    " 'downloader/response_count': 15546,\n",
    " 'downloader/response_status_count/200': 15544, \n",
    " 'downloader/response_status_count/301': 2,\n",
    " 'dupefilter/filtered': 1069,\n",
    " 'elapsed_time_seconds': 2724.392909, # Temps d'exécution: 45 min environ\n",
    " 'finish_reason': 'finished',\n",
    " 'finish_time': datetime.datetime(2020, 12, 14, 20, 27, 45, 436352),\n",
    " 'item_scraped_count': 15178, # Nombre total d'animés: 15178\n",
    " 'log_count/DEBUG': 30725,\n",
    " 'log_count/INFO': 55,\n",
    " 'memusage/max': 129540096,\n",
    " 'memusage/startup': 77524992,\n",
    " 'request_depth_max': 3,\n",
    " 'response_received_count': 15544,\n",
    " 'robotstxt/request_count': 1,\n",
    " 'robotstxt/response_count': 1,\n",
    " 'robotstxt/response_status_count/200': 1,\n",
    " 'scheduler/dequeued': 15544,\n",
    " 'scheduler/dequeued/memory': 15544,\n",
    " 'scheduler/enqueued': 15544,\n",
    " 'scheduler/enqueued/memory': 15544,\n",
    " 'start_time': datetime.datetime(2020, 12, 14, 19, 42, 21, 43443)}\n",
    "2020-12-14 21:27:45 [scrapy.core.engine] INFO: Spider closed (finished)"
   ]
  },
  {
   "cell_type": "code",
   "execution_count": 58,
   "metadata": {
    "tags": [
     "outputPrepend"
    ]
   },
   "outputs": [
    {
     "name": "stdout",
     "output_type": "stream",
     "text": [
      "2020-12-14 23:02:07 [scrapy.utils.log] INFO: Scrapy 2.4.0 started (bot: animescrawler)\n",
      "2020-12-14 23:02:07 [scrapy.utils.log] INFO: Versions: lxml 4.6.1.0, libxml2 2.9.10, cssselect 1.1.0, parsel 1.6.0, w3lib 1.22.0, Twisted 20.3.0, Python 3.8.6 (default, Oct 13 2020, 20:37:26) - [GCC 8.3.0], pyOpenSSL 19.1.0 (OpenSSL 1.1.1h  22 Sep 2020), cryptography 3.2.1, Platform Linux-5.4.0-58-generic-x86_64-with-glibc2.2.5\n",
      "2020-12-14 23:02:07 [scrapy.utils.log] DEBUG: Using reactor: twisted.internet.epollreactor.EPollReactor\n",
      "2020-12-14 23:02:07 [scrapy.crawler] INFO: Overridden settings:\n",
      "{'BOT_NAME': 'animescrawler',\n",
      " 'COOKIES_ENABLED': False,\n",
      " 'NEWSPIDER_MODULE': 'animescrawler.spiders',\n",
      " 'ROBOTSTXT_OBEY': True,\n",
      " 'SPIDER_LOADER_WARN_ONLY': True,\n",
      " 'SPIDER_MODULES': ['animescrawler.spiders']}\n",
      "2020-12-14 23:02:07 [scrapy.extensions.telnet] INFO: Telnet Password: d63f114f65c09752\n",
      "2020-12-14 23:02:07 [scrapy.middleware] INFO: Enabled extensions:\n",
      "['scrapy.extensions.corestats.CoreStats',\n",
      " 'scrapy.extensions.telnet.TelnetConsole',\n",
      " 'scrapy.extensions.memusage.MemoryUsage',\n",
      " 'scrapy.extensions.feedexport.FeedExporter',\n",
      " 'scrapy.extensions.logstats.LogStats']\n",
      "2020-12-14 23:02:07 [scrapy.middleware] INFO: Enabled downloader middlewares:\n",
      "['scrapy.downloadermiddlewares.robotstxt.RobotsTxtMiddleware',\n",
      " 'scrapy.downloadermiddlewares.httpauth.HttpAuthMiddleware',\n",
      " 'scrapy.downloadermiddlewares.downloadtimeout.DownloadTimeoutMiddleware',\n",
      " 'scrapy.downloadermiddlewares.defaultheaders.DefaultHeadersMiddleware',\n",
      " 'scrapy.downloadermiddlewares.useragent.UserAgentMiddleware',\n",
      " 'scrapy.downloadermiddlewares.retry.RetryMiddleware',\n",
      " 'scrapy.downloadermiddlewares.redirect.MetaRefreshMiddleware',\n",
      " 'scrapy.downloadermiddlewares.httpcompression.HttpCompressionMiddleware',\n",
      " 'scrapy.downloadermiddlewares.redirect.RedirectMiddleware',\n",
      " 'scrapy.downloadermiddlewares.httpproxy.HttpProxyMiddleware',\n",
      " 'scrapy.downloadermiddlewares.stats.DownloaderStats']\n",
      "2020-12-14 23:02:07 [scrapy.middleware] INFO: Enabled spider middlewares:\n",
      "['scrapy.spidermiddlewares.httperror.HttpErrorMiddleware',\n",
      " 'scrapy.spidermiddlewares.offsite.OffsiteMiddleware',\n",
      " 'scrapy.spidermiddlewares.referer.RefererMiddleware',\n",
      " 'scrapy.spidermiddlewares.urllength.UrlLengthMiddleware',\n",
      " 'scrapy.spidermiddlewares.depth.DepthMiddleware']\n",
      "2020-12-14 23:02:07 [scrapy.middleware] INFO: Enabled item pipelines:\n",
      "['animescrawler.pipelines.AnimescrawlerPipeline',\n",
      " 'animescrawler.pipelines.MongoPipeline']\n",
      "2020-12-14 23:02:07 [scrapy.core.engine] INFO: Spider opened\n",
      "2020-12-14 23:02:07 [scrapy.extensions.logstats] INFO: Crawled 0 pages (at 0 pages/min), scraped 0 items (at 0 items/min)\n",
      "2020-12-14 23:02:07 [scrapy.extensions.telnet] INFO: Telnet console listening on 127.0.0.1:6023\n",
      "2020-12-14 23:02:08 [scrapy.downloadermiddlewares.redirect] DEBUG: Redirecting (301) to <GET https://myanimelist.net/robots.txt> from <GET http://myanimelist.net/robots.txt>\n",
      "2020-12-14 23:02:08 [scrapy.core.engine] DEBUG: Crawled (200) <GET https://myanimelist.net/robots.txt> (referer: None)\n",
      "2020-12-14 23:02:08 [scrapy.downloadermiddlewares.redirect] DEBUG: Redirecting (301) to <GET https://myanimelist.net/anime.php> from <GET http://myanimelist.net/anime.php>\n",
      "2020-12-14 23:02:09 [scrapy.core.engine] DEBUG: Crawled (200) <GET https://myanimelist.net/anime.php> (referer: None)\n",
      "2020-12-14 23:02:10 [scrapy.core.engine] DEBUG: Crawled (200) <GET https://myanimelist.net/anime.php?letter=N> (referer: https://myanimelist.net/anime.php)\n",
      "PARSE 1 : https://myanimelist.net/anime.php?letter=N non scrapé\n",
      "PARSE 1 : Echec de la tentative de scraping 1 de https://myanimelist.net/anime.php?letter=N\n",
      "PARSE 1: Tentative 2 de scraping planifiée\n",
      "2020-12-14 23:02:11 [scrapy.core.engine] DEBUG: Crawled (200) <GET https://myanimelist.net/anime.php?letter=S> (referer: https://myanimelist.net/anime.php)\n",
      "2020-12-14 23:02:11 [scrapy.core.engine] DEBUG: Crawled (200) <GET https://myanimelist.net/anime.php?letter=P> (referer: https://myanimelist.net/anime.php)\n",
      "PARSE 1 : https://myanimelist.net/anime.php?letter=S non scrapé\n",
      "PARSE 1 : Echec de la tentative de scraping 1 de https://myanimelist.net/anime.php?letter=S\n",
      "PARSE 1: Tentative 2 de scraping planifiée\n",
      "2020-12-14 23:02:11 [scrapy.core.engine] DEBUG: Crawled (200) <GET https://myanimelist.net/anime.php?letter=J> (referer: https://myanimelist.net/anime.php)\n",
      "2020-12-14 23:02:11 [scrapy.core.engine] DEBUG: Crawled (200) <GET https://myanimelist.net/anime.php?letter=L> (referer: https://myanimelist.net/anime.php)\n",
      "2020-12-14 23:02:11 [scrapy.core.engine] DEBUG: Crawled (200) <GET https://myanimelist.net/anime.php?em=0&ed=0&ey=0&o=2&c%5B0%5D=a&c%5B1%5D=d&cv=1&w=0&sd=30&sm=11&sy=2020> (referer: https://myanimelist.net/anime.php)\n",
      "PARSE 1 : https://myanimelist.net/anime.php?letter=L non scrapé\n",
      "PARSE 1 : Echec de la tentative de scraping 1 de https://myanimelist.net/anime.php?letter=L\n",
      "PARSE 1: Tentative 2 de scraping planifiée\n",
      "2020-12-14 23:02:11 [scrapy.core.engine] DEBUG: Crawled (200) <GET https://myanimelist.net/anime.php?letter=U> (referer: https://myanimelist.net/anime.php)\n",
      "2020-12-14 23:02:11 [scrapy.core.engine] DEBUG: Crawled (200) <GET https://myanimelist.net/anime.php?letter=E> (referer: https://myanimelist.net/anime.php)\n",
      "2020-12-14 23:02:12 [scrapy.core.engine] DEBUG: Crawled (200) <GET https://myanimelist.net/anime.php?letter=H> (referer: https://myanimelist.net/anime.php)\n",
      "PARSE 1 : https://myanimelist.net/anime.php?letter=H non scrapé\n",
      "PARSE 1 : Echec de la tentative de scraping 1 de https://myanimelist.net/anime.php?letter=H\n",
      "PARSE 1: Tentative 2 de scraping planifiée\n",
      "2020-12-14 23:02:12 [scrapy.core.engine] DEBUG: Crawled (200) <GET https://myanimelist.net/anime.php?o=9&c%5B0%5D=a&c%5B1%5D=d&cv=2&w=1> (referer: https://myanimelist.net/anime.php)\n",
      "2020-12-14 23:02:12 [scrapy.core.engine] DEBUG: Crawled (200) <GET https://myanimelist.net/anime.php?letter=Z> (referer: https://myanimelist.net/anime.php)\n",
      "PARSE 1 : https://myanimelist.net/anime.php?o=9&c%5B0%5D=a&c%5B1%5D=d&cv=2&w=1 non scrapé\n",
      "PARSE 1 : Echec de la tentative de scraping 1 de https://myanimelist.net/anime.php?o=9&c%5B0%5D=a&c%5B1%5D=d&cv=2&w=1\n",
      "PARSE 1: Tentative 2 de scraping planifiée\n",
      "2020-12-14 23:02:12 [scrapy.core.engine] DEBUG: Crawled (200) <GET https://myanimelist.net/anime.php?letter=B> (referer: https://myanimelist.net/anime.php)\n",
      "2020-12-14 23:02:12 [scrapy.core.engine] DEBUG: Crawled (200) <GET https://myanimelist.net/anime.php?letter=M> (referer: https://myanimelist.net/anime.php)\n",
      "2020-12-14 23:02:12 [scrapy.core.engine] DEBUG: Crawled (200) <GET https://myanimelist.net/anime.php?letter=C> (referer: https://myanimelist.net/anime.php)\n",
      "2020-12-14 23:02:13 [scrapy.core.engine] DEBUG: Crawled (200) <GET https://myanimelist.net/anime.php?letter=O> (referer: https://myanimelist.net/anime.php)\n",
      "PARSE 1 : https://myanimelist.net/anime.php?letter=M non scrapé\n",
      "PARSE 1 : Echec de la tentative de scraping 1 de https://myanimelist.net/anime.php?letter=M\n",
      "PARSE 1: Tentative 2 de scraping planifiée\n",
      "2020-12-14 23:02:13 [scrapy.core.engine] DEBUG: Crawled (200) <GET https://myanimelist.net/anime.php?letter=F> (referer: https://myanimelist.net/anime.php)\n",
      "2020-12-14 23:02:13 [scrapy.core.engine] DEBUG: Crawled (200) <GET https://myanimelist.net/anime.php?letter=Y> (referer: https://myanimelist.net/anime.php)\n",
      "2020-12-14 23:02:14 [scrapy.core.engine] DEBUG: Crawled (200) <GET https://myanimelist.net/anime.php?letter=A> (referer: https://myanimelist.net/anime.php)\n",
      "2020-12-14 23:02:14 [scrapy.core.engine] DEBUG: Crawled (200) <GET https://myanimelist.net/anime.php?letter=U&show=300> (referer: https://myanimelist.net/anime.php?letter=U)\n",
      "2020-12-14 23:02:14 [scrapy.core.engine] DEBUG: Crawled (200) <GET https://myanimelist.net/anime.php?letter=W> (referer: https://myanimelist.net/anime.php)\n",
      "2020-12-14 23:02:14 [scrapy.core.engine] DEBUG: Crawled (200) <GET https://myanimelist.net/anime.php?letter=J&show=250> (referer: https://myanimelist.net/anime.php?letter=J)\n",
      "2020-12-14 23:02:14 [scrapy.core.engine] DEBUG: Crawled (200) <GET https://myanimelist.net/anime.php?letter=J&show=150> (referer: https://myanimelist.net/anime.php?letter=J)\n",
      "2020-12-14 23:02:14 [scrapy.core.engine] DEBUG: Crawled (200) <GET https://myanimelist.net/anime.php?letter=J&show=200> (referer: https://myanimelist.net/anime.php?letter=J)\n"
     ]
    },
    {
     "name": "stdout",
     "output_type": "stream",
     "text": [
      "2020-12-14 23:02:14 [scrapy.core.engine] DEBUG: Crawled (200) <GET https://myanimelist.net/anime.php?letter=E&show=200> (referer: https://myanimelist.net/anime.php?letter=E)\n",
      "2020-12-14 23:02:14 [scrapy.core.engine] DEBUG: Crawled (200) <GET https://myanimelist.net/anime.php?letter=E&show=100> (referer: https://myanimelist.net/anime.php?letter=E)\n",
      "2020-12-14 23:02:15 [scrapy.core.engine] DEBUG: Crawled (200) <GET https://myanimelist.net/anime.php?letter=E&show=150> (referer: https://myanimelist.net/anime.php?letter=E)\n",
      "^C\n",
      "2020-12-14 23:02:15 [scrapy.crawler] INFO: Received SIGINT, shutting down gracefully. Send again to force \n",
      "2020-12-14 23:02:15 [scrapy.core.engine] INFO: Closing spider (shutdown)\n"
     ]
    }
   ],
   "source": [
    "!cd animescrawler/animescrawler/spiders && scrapy runspider myanimelist.py -o anime.json"
   ]
  },
  {
   "cell_type": "code",
   "execution_count": 59,
   "metadata": {},
   "outputs": [
    {
     "data": {
      "text/plain": [
       "[]"
      ]
     },
     "execution_count": 59,
     "metadata": {},
     "output_type": "execute_result"
    }
   ],
   "source": [
    "import pymongo\n",
    "client = pymongo.MongoClient(\"mongo\")\n",
    "client[\"anime\"].anime.delete_many({})\n",
    "list(client[\"anime\"].anime.find({}))"
   ]
  }
 ],
 "metadata": {
  "kernelspec": {
   "display_name": "Python 3",
   "language": "python",
   "name": "python3"
  },
  "language_info": {
   "codemirror_mode": {
    "name": "ipython",
    "version": 3
   },
   "file_extension": ".py",
   "mimetype": "text/x-python",
   "name": "python",
   "nbconvert_exporter": "python",
   "pygments_lexer": "ipython3",
   "version": "3.8.6"
  }
 },
 "nbformat": 4,
 "nbformat_minor": 2
}
