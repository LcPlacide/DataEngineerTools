{
 "cells": [
  {
   "cell_type": "markdown",
   "metadata": {},
   "source": [
    "# Rêquetes mongo pour édition des pages"
   ]
  },
  {
   "cell_type": "code",
   "execution_count": 7,
   "metadata": {},
   "outputs": [
    {
     "output_type": "execute_result",
     "data": {
      "text/plain": [
       "['admin', 'anime', 'config', 'local']"
      ]
     },
     "metadata": {},
     "execution_count": 7
    }
   ],
   "source": [
    "# Importation des packages nécessaires\n",
    "import pandas as pd\n",
    "import numpy as np\n",
    "import pymongo\n",
    "from datetime import time,MAXYEAR,timedelta\n",
    "import datetime\n",
    "\n",
    "# Ouverturre de la base mongo\n",
    "client = pymongo.MongoClient()\n",
    "database = client.anime\n",
    "collection = database.myanimelist\n",
    "client.list_database_names()"
   ]
  },
  {
   "cell_type": "markdown",
   "metadata": {},
   "source": [
    "## Séletion d'animés selon des critères"
   ]
  },
  {
   "cell_type": "code",
   "execution_count": 8,
   "metadata": {},
   "outputs": [],
   "source": [
    "def init_components(collection):\n",
    "    \"\"\"\n",
    "    Création des labels et des valeurs des dropdowns,sliders \n",
    "    et Checklist de l'onglet \"Advance Search\"\n",
    "\n",
    "    Args:\n",
    "        collection: collection comportant les animés à requêter\n",
    "    \n",
    "    Returns:\n",
    "        dictionnaire contenant:\n",
    "            - Type_val: valeurs et labels du dropdown \"type\"\n",
    "            - rating_val: valeurs et labels du dropdown \"rating\"\n",
    "            - status_val: valeurs et labels du dropdown \"status\"\n",
    "            - duration_val, duration_label: valeurs et labels du slider \"duration\"\n",
    "            - episode_val: valeurs et labels du slider \"episodes\"\n",
    "            - popularity_val: valeurs du slider \"popularity\"\n",
    "            - ranked_val: valeur et labels du slider \"ranked\"\n",
    "            - year_val: valeurs et labels du slider \"start_year\"\n",
    "            - genres_val: valeurs et labels de la checklist \"genres\"\n",
    "            - radio_genres: valeurs et labels de radioItems \"genres\"\n",
    "            - producers_val: valeurs et labels de la checklist \"producers\"\n",
    "            - radio_producers: valeurs et labels de radioItems \"producers\"\n",
    "    \"\"\"\n",
    "    # Création des valeurs et labels des dropdowns\n",
    "    Type_val=collection.aggregate([{\"$group\" : {\"_id\" : \"$Type\"}}])\n",
    "    Type_val=[val[\"_id\"] for val in list(Type_val) if val[\"_id\"]!=None]\n",
    "\n",
    "    rating_val=collection.aggregate([{\"$group\" : {\"_id\" : \"$rating\"}}])\n",
    "    rating_val=[val[\"_id\"] for val in list(rating_val) if val[\"_id\"]!=None]\n",
    "\n",
    "    status_val=collection.aggregate([{\"$group\" : {\"_id\" : \"$status\"}}])\n",
    "    status_val=[val[\"_id\"] for val in list(status_val) if val[\"_id\"]!=None]\n",
    "\n",
    "\n",
    "    # Création des valeurs et labels des sliders\n",
    "    durations=collection.aggregate([{\"$group\" : {\"_id\" : \"$duration\"}}])\n",
    "    max_duration=max([val[\"_id\"].hour for val in list(durations) if type(val[\"_id\"])==type(datetime.datetime.today())])\n",
    "    hours=4*[0]+2*[1]+[2,max_duration+1]\n",
    "    minutes=[i for i in range(0,46,15)]+[0,30,0,0]\n",
    "    duration_val=[int(timedelta(hours=h,minutes=m).total_seconds()) for h,m in zip(hours,minutes)]\n",
    "    duration_label=[\"{}h{}min\".format(h,m) if h!=0 and m!=0 \n",
    "                    else \"{}h\".format(h) if h!=0 \n",
    "                    else \"{}min\".format(m) \n",
    "                    for h,m in zip(hours,minutes)]\n",
    "\n",
    "    episodes=collection.aggregate([{\"$group\" : {\"_id\" : \"$episodes\"}}])\n",
    "    max_episodes=max([val[\"_id\"] for val in list(episodes) if type(val[\"_id\"])==int])\n",
    "    episodes_val=[1,50,200,300,500,700,(max_episodes//1000+1)*1000]\n",
    "\n",
    "    popularity=collection.aggregate([{\"$group\" : {\"_id\" : \"$popularity\"}}])\n",
    "    max_popularity=max([val[\"_id\"] for val in list(popularity) if type(val[\"_id\"])==int])\n",
    "    popularity_val=[i for i in range(0,10001,2000)]+[(max_popularity//1000+1)*1000]\n",
    "\n",
    "    ranked=collection.aggregate([{\"$group\" : {\"_id\" : \"$ranked\"}}])\n",
    "    max_ranked=max([val[\"_id\"] for val in list(ranked) if type(val[\"_id\"])==int])\n",
    "    ranked_val=[1,1000]+[i for i in range(2000,8001,2000)]+[(max_ranked//1000+1)*1000]\n",
    "\n",
    "    year=collection.aggregate([{\"$group\" : {\"_id\" : \"$aired.start\"}}])\n",
    "    year=[int(val[\"_id\"].year) if type(val[\"_id\"])==type(datetime.datetime.today())\n",
    "        else int(val[\"_id\"]) if str(val[\"_id\"]).isdigit()\n",
    "        else -1 for val in list(year)]\n",
    "    year=[val for val in year if val!=-1]\n",
    "    max_year,min_year=max(year),min(year)\n",
    "    year_val=[(min_year//10)*10]+[i for i in range(1930,1990,30)]+[i for i in range(2000,2016,7)]+[max_year]\n",
    "\n",
    "\n",
    "    # Création des valeurs et labels des checklists et radioItems\n",
    "    genres=collection.aggregate([{\"$group\" : {\"_id\" : \"$genres\"}}])\n",
    "    genres=[val[\"_id\"] for val in genres if val[\"_id\"]!=None ]\n",
    "    genres_val=[]\n",
    "    for g in genres:\n",
    "        genres_val= genres_val+g\n",
    "    genres_val=set(genres_val)\n",
    "    radio_genres=[\"All genres\",\"Limit to\",\"Exactly with\",\"Exclude\"]\n",
    "\n",
    "    producers=collection.aggregate([{\"$group\" : {\"_id\" : \"$producers\"}}])\n",
    "    producers=[val[\"_id\"] for val in producers if val[\"_id\"]!=[] ]\n",
    "    producers_val=[]\n",
    "    for p in producers:\n",
    "        producers_val= producers_val+p\n",
    "    producers_val=set(producers_val)\n",
    "    radio_producers=[\"All producers\",\"Limit to\",\"Exactly with\",\"Exclude\"]\n",
    "\n",
    "\n",
    "    # Création du dictionnaire de sortie\n",
    "    keys=[\"Type_val\",\"rating_val\",\"status_val\",\n",
    "            \"duration_val\",\"duration_label\",\"episode_val\",\n",
    "            \"popularity_val\",\"ranked_val\",\"year_val\",\"genres_val\",\n",
    "            \"radio_genres\",\"producers_val\",\"radio_producers\"]\n",
    "    values=[Type_val,rating_val,status_val,duration_val,\n",
    "            duration_label,episode_val,popularity_val,\n",
    "            ranked_val,year_val,genres_val,\n",
    "            radio_genres,producers_val,radio_producers]\n",
    "    return dict(list(zip(keys,values)))"
   ]
  },
  {
   "cell_type": "code",
   "execution_count": 9,
   "metadata": {},
   "outputs": [],
   "source": [
    "def to_time(timedelta,to_datetime=False):\n",
    "    \"\"\"\n",
    "    Conversion d'une durée en secondes\n",
    "    en un datetime.time ou datetime.datetime\n",
    "\n",
    "    Args:\n",
    "        timedelta: une durée ou un liste de durée en secondes\n",
    "        to_datetime: choix du format datetime.datetime\n",
    "\n",
    "    Returns:\n",
    "        varible(s) datetime.time ou datetime.datetime associée(s)\n",
    "    \"\"\"\n",
    "    if type(timedelta)==int:\n",
    "        res=time()\n",
    "        if timedelta!=0 and timedelta%3600==0 or timedelta-3600>0:\n",
    "            res=res.replace(hour=timedelta//3600)\n",
    "            timedelta-=res.hour*3600\n",
    "        if timedelta!=0 and timedelta%60==0 or timedelta-60>0:\n",
    "            res=res.replace(minute=timedelta//60)\n",
    "            timedelta-=res.minute*60\n",
    "        if timedelta!=0:\n",
    "            res=res.replace(second=timedelta)\n",
    "        if to_datetime:\n",
    "            res=datetime.datetime(year=MAXYEAR,month=12,day=31,hour=res.hour,minute=res.minute,second=res.second)\n",
    "        return res\n",
    "    elif type(timedelta)==list:\n",
    "        return [to_time(d,to_datetime) for d in timedelta]"
   ]
  },
  {
   "cell_type": "code",
   "execution_count": 10,
   "metadata": {},
   "outputs": [],
   "source": [
    "def make_request(Type=[\"All types\"],rating=[\"All ratings\"],status=[\"All status\"],score=[],duration=[],episodes=[],popularity=[],ranked=[],year=[],genres_r='',genres_d=[],producers_r='',producers_d=[],start_year=[],titles=[]):\n",
    "    \"\"\"\n",
    "    Réalisation d'une requête mongo \n",
    "    à partir des filtres passé en arguments\n",
    "\n",
    "    Args:\n",
    "        filtres utilisé pour construire la requête\n",
    "    \n",
    "    Returns:\n",
    "        rêquete mongo adéquate\n",
    "    \"\"\" \n",
    "    # Initialisation des filtres et de la requête\n",
    "    champs=['titles','score','ranked','popularity','genres','producers','Type','episodes','status','duration','rating','aired']\n",
    "    filters=dict([(champ,None) for champ in champs])\n",
    "    request={\"$and\":[]}\n",
    "\n",
    "    # Edition des filtres\n",
    "    if len(titles)>0:\n",
    "        filters[\"titles\"]={\"$or\":[{\"main_title\":{\"$in\":titles}},{\"other_titles\":{\"$in\":titles}}]}\n",
    "    if \"All types\" not in Type:\n",
    "        filters[\"Type\"]={\"Type\":{\"$in\":Type}}\n",
    "    if \"All status\" not in status:\n",
    "        filters[\"status\"]={\"status\":{\"$in\":status}}\n",
    "    if \"All ratings\" not in rating:\n",
    "        filters[\"rating\"]={\"rating\":{\"$in\":rating}}\n",
    "    if len(duration)>0:\n",
    "        d=to_time(duration,True)\n",
    "        filters[\"duration\"]={ \"$and\": [ {\"duration\":{\"$gte\":min(d)}} , {\"duration\":{\"$lte\":max(d)}} ] }\n",
    "    if genres_r==\"Limit to\" and len(genres_d)>0:\n",
    "        filters[\"genres\"]={\"genres\":{\"$in\":genres_d}}\n",
    "    elif genres_r==\"Exclude\" and len(genres_d)>0:\n",
    "        filters[\"genres\"]={\"genres\":{\"$nin\":genres_d}}\n",
    "    elif genres_r==\"Exactly with\" and len(genres_d)>0:\n",
    "        filters[\"genres\"]={\"genres\":{\"$all\":genres_d}}\n",
    "    if producers_r==\"Limit to\" and len(producers_d)>0:\n",
    "        filters[\"producers\"]={\"producers\":{\"$in\":producers_d}}\n",
    "    elif producers_r==\"Exclude\" and len(producers_d)>0:\n",
    "        filters[\"producers\"]={\"producers\":{\"$nin\":producers_d}}\n",
    "    elif producers_r==\"Exactly with\" and len(producers_d)>0:\n",
    "        filters[\"producers\"]={\"producers\":{\"$all\":producers_d}}\n",
    "    if len(score)>0:\n",
    "        filters[\"score\"]={ \"$and\": [ {\"score\":{\"$gte\": min(score)}} , {\"score\":{\"$lte\": max(score)}} ] }\n",
    "    if len(ranked)>0:\n",
    "        filters[\"ranked\"]={ \"$and\": [ {\"ranked\":{\"$gte\": min(ranked)}} , {\"ranked\":{\"$lte\": max(ranked)}} ] }\n",
    "    if len(popularity)>0:\n",
    "        filters[\"popularity\"]={ \"$and\": [ {\"popularity\":{\"$gte\": min(popularity)}} , {\"popularity\":{\"$lte\": max(popularity)}} ] }\n",
    "    if len(episodes)>0:\n",
    "        filters[\"episodes\"]={ \"$and\": [ {\"episodes\":{\"$gte\": min(episodes)}} , {\"episodes\":{\"$lte\": max(episodes)}} ] }\n",
    "    if len(start_year)>0:\n",
    "        start={\"$or\":[{\"aired.start\":{\"$gte\":min(start_year)}},{\"aired.start\":{\"$gte\":datetime.datetime(min(start_year),1,1)}}]}\n",
    "        end={\"$or\":[{\"aired.start\":{\"$lte\":max(start_year)}},{\"aired.start\":{\"$lt\":datetime.datetime(max(start_year),12,31)}}]}\n",
    "        filters[\"aired\"]={\"$and\":[start,end]}\n",
    "    \n",
    "    # Edition de la requête\n",
    "    for key in filters.keys():\n",
    "        if filters[key]!=None:\n",
    "            request[\"$and\"].append(filters[key])   \n",
    "    if len(request[\"$and\"])==0:\n",
    "        request={}\n",
    "    \n",
    "    return request"
   ]
  },
  {
   "cell_type": "code",
   "execution_count": 11,
   "metadata": {},
   "outputs": [],
   "source": [
    "def select_anime(request,collection,champs=[],max_result=10**30,sort={\"champs\":None,\"order\":None}):\n",
    "    \"\"\"\n",
    "    Sélection des animés de collections \n",
    "    correspondant à request\n",
    "\n",
    "    Args:\n",
    "        request: requête mongo\n",
    "        colletion: colletion à parcourir\n",
    "        champs: liste de champs à récupérer\n",
    "        sort: dict indiquant si on doit trier les documents de clé champs et order\n",
    "        max_result: taille maximale de la liste de sortie\n",
    "    \n",
    "    Return:\n",
    "        liste d'animés validant request\n",
    "    \"\"\"\n",
    "    # Choix des champs à récupérés\n",
    "    champs = dict([(champ,1) for champ in champs])\n",
    "\n",
    "    # Lancement de la requête\n",
    "    if sort[\"champs\"]==None or sort[\"order\"]==None: \n",
    "        if len(champs)>1:\n",
    "            res=list(collection.find(request,champs))\n",
    "        elif len(champs)==1:\n",
    "            res=[elt[list(champs.keys())[0]] for elt in list(collection.find(request,champs))]\n",
    "        else:\n",
    "            res= list(collection.find(request))\n",
    "    else:\n",
    "        sorting=[(c,o) for c,o in zip(sort[\"champs\"],sort[\"order\"])]\n",
    "        if len(champs)>1:\n",
    "            res=list(collection.find(request,champs).sort(sorting))\n",
    "        elif len(champs)==1:\n",
    "            res=[elt[list(champs.keys())[0]] for elt in list(collection.find(request,champs).sort(sorting))]\n",
    "        else:\n",
    "            res= list(collection.find(request).sort(sorting))\n",
    "    \n",
    "    \n",
    "    # Limitation du nombre de résultat\n",
    "    if len(res)>0:\n",
    "        return res[0:min(max_result,len(res))]\n",
    "    \n",
    "    return list(collection.find(request))"
   ]
  },
  {
   "source": [
    "## Algorithme de recommandation"
   ],
   "cell_type": "markdown",
   "metadata": {}
  },
  {
   "cell_type": "code",
   "execution_count": 52,
   "metadata": {},
   "outputs": [],
   "source": [
    "def find_references(references,collection,champs,NaN=None):\n",
    "    \"\"\"\n",
    "    Formatage des infos de références pour la recommandation\n",
    "\n",
    "    Args:\n",
    "        references: titres des animés de références\n",
    "        collection: base de données comportant tous les animés\n",
    "        champs: liste de champs utilisés pour la recommandation \n",
    "    Return:\n",
    "        infos de références corretement formatées\n",
    "    \"\"\"\n",
    "    NA=[None,[],'None',NaN]\n",
    "    request=make_request(titles=references)\n",
    "    selection=select_anime(request,collection,champs)\n",
    "    infos=dict()\n",
    "    for anime in selection:\n",
    "        for champ in anime.keys():\n",
    "            if anime[champ] not in NA and champ!=\"_id\":\n",
    "                if not champ in infos.keys():\n",
    "                    infos[champ]=[anime[champ]]\n",
    "                else:\n",
    "                    infos[champ].append(anime[champ])\n",
    "    if \"duration\" in infos.keys():\n",
    "        infos[\"duration\"]=[elt.time() for elt in infos[\"duration\"]]\n",
    "        infos[\"duration\"]=[datetime.timedelta(hours=elt.hour,minutes=elt.minute,seconds=elt.second)for elt in infos[\"duration\"]]\n",
    "        infos[\"duration\"]=[int(elt.total_seconds()) for elt in infos[\"duration\"]]\n",
    "    if \"aired\" in infos.keys():\n",
    "        infos[\"aired\"]=[ elt[\"start\"].year if type(elt[\"start\"])!=int else elt[\"start\"] for elt in infos[\"aired\"]]\n",
    "    if \"related_anime\" in infos.keys():\n",
    "        for i in range(len(infos[\"related_anime\"])):\n",
    "            related_anime=[]\n",
    "            for k in infos[\"related_anime\"][i].keys():\n",
    "                if k!=\"Adaptation\":\n",
    "                    related_anime = related_anime  + infos[\"related_anime\"][i][k]\n",
    "            infos[\"related_anime\"][i]=related_anime\n",
    "    return infos"
   ]
  },
  {
   "cell_type": "code",
   "execution_count": 56,
   "metadata": {},
   "outputs": [
    {
     "output_type": "execute_result",
     "data": {
      "text/plain": [
       "{'genres': [['Action',\n",
       "   'Adventure',\n",
       "   'Comedy',\n",
       "   'Super Power',\n",
       "   'Martial Arts',\n",
       "   'Shounen']],\n",
       " 'related_anime': [['Naruto Movie 1: Dai Katsugeki!! Yuki Hime Shinobu Houjou Dattebayo!',\n",
       "   'Naruto: Takigakure no Shitou - Ore ga Eiyuu Dattebayo!',\n",
       "   'Naruto: Akaki Yotsuba no Clover wo Sagase',\n",
       "   'Naruto Movie 2: Dai Gekitotsu! Maboroshi no Chiteiiseki Dattebayo!',\n",
       "   'Naruto Narutimate Hero 3: Tsuini Gekitotsu! Jounin vs. Genin!! Musabetsu Dairansen Taikai Kaisai!!',\n",
       "   'Naruto Movie 3: Dai Koufun! Mikazuki Jima no Animaru Panikku Dattebayo!',\n",
       "   'Naruto: The Cross Roads',\n",
       "   'Naruto: Shippuuden']],\n",
       " 'episodes': [220],\n",
       " 'duration': [1380],\n",
       " 'aired': [2002]}"
      ]
     },
     "metadata": {},
     "execution_count": 56
    }
   ],
   "source": [
    "infos=find_references([\"Naruto\"],collection,[\"genres\",\"duration\",\"aired.start\",\"episodes\",\"related_anime\"])\n",
    "infos"
   ]
  },
  {
   "cell_type": "code",
   "execution_count": 162,
   "metadata": {},
   "outputs": [],
   "source": [
    "def anime_recommandation(titles,collection,champs=[\"genres\",\"duration\",\"episodes\",\"aired.start\",\"main_title\"],max_result=10):\n",
    "    \"\"\"\n",
    "    Recommandation d'animés à partir d'autres d'animés\n",
    "\n",
    "    Args:\n",
    "        titles: titres des animés utilisé comme références\n",
    "        collection: base de données comportant tous les animés\n",
    "        champs: liste de champs utilisés pour la recommandation \n",
    "        max_result: taille maximale de la liste de recommandation\n",
    "    \n",
    "    Returns:\n",
    "        liste d'animés recommandés\n",
    "    \"\"\"\n",
    "    # Récupération d'infos sur les animés de références\n",
    "    ref_infos=find_references(titles,collection,champs)\n",
    "    print(ref_infos)\n",
    "\n",
    "    # Recherche d'animés partageant possédeant les genres de référence\n",
    "    under_max,selection=False,[]\n",
    "    clean_yet=False\n",
    "    if \"genres\" in ref_infos.keys():\n",
    "        genres_c=[]\n",
    "        for elt in ref_infos[\"genres\"]:\n",
    "            genres_c= genres_c + elt\n",
    "        request=make_request(genres_r='Limit to',genres_d=list(set(genres_c)))\n",
    "        select=select_anime(request,collection,champs=[\"main_title\"],sort={\"champs\":[\"score\",\"popularity\"],\"order\":[-1,-1]})\n",
    "        select= set(select).difference(ref_infos[\"main_title\"])\n",
    "        selection.append(clean_selection(list(select)))\n",
    "        clean_yet=True\n",
    "        under_max=(len(selection[-1])<=max_result & len(selection[-1])>0)\n",
    "        if not under_max:\n",
    "            genres_c=[set(elt) for elt in ref_infos[\"genres\"]]\n",
    "            common_genres=genres_c[0]\n",
    "            for elt in genres_c[1:]:\n",
    "                common_genres = elt&common_genres\n",
    "            if len(common_genres)>0:\n",
    "                request=make_request(genres_r='Exactly with',genres_d=list(common_genres))\n",
    "                select=select_anime(request,collection,champs=[\"main_title\"],\n",
    "                                    sort={\"champs\":[\"score\",\"popularity\"],\"order\":[-1,-1]})\n",
    "                select= set(select).difference(ref_infos[\"main_title\"])\n",
    "                if len(select)>0:\n",
    "                    selection.append(clean_selection(list(select),clean_yet))\n",
    "                    clean_yet=True\n",
    "                    under_max=(len(selection[-1])<=max_result)\n",
    "    \n",
    "    # Recherche d'animés ayant environ la même durée\n",
    "    if \"duration\" in ref_infos.keys() and not under_max:\n",
    "        mean_duration=np.mean(ref_infos[\"duration\"])\n",
    "        limits=[round(0.75*mean_duration),round(1.25*mean_duration)]\n",
    "        request=make_request(titles=selection[-1],duration=limits)\n",
    "        select=select_anime(request,collection,champs=[\"main_title\"],sort={\"champs\":[\"score\",\"popularity\"],\"order\":[-1,-1]})\n",
    "        if len(select)>0:\n",
    "            selection.append(clean_selection(select,clean_yet))\n",
    "            clean_yet=True\n",
    "            under_max=(len(selection[-1])<=max_result)\n",
    "\n",
    "    # Recherche d'animés ayant environ le même nombre d'épisodes\n",
    "    if \"episodes\" in ref_infos.keys() and not under_max:\n",
    "        mean_episodes=np.mean(ref_infos[\"episodes\"])\n",
    "        limits=[round(0.75*mean_episodes),round(1.25*mean_episodes)]\n",
    "        request=make_request(titles=selection[-1],episodes=limits)\n",
    "        select=select_anime(request,collection,champs=[\"main_title\"],sort={\"champs\":[\"score\",\"popularity\"],\"order\":[-1,-1]})\n",
    "        if len(select)>0:\n",
    "            selection.append(clean_select(select,clean_yet))\n",
    "            clean_yet=True\n",
    "            under_max=(len(selection[-1])<=max_result)\n",
    "\n",
    "    # Recherche d'animés ayant environ le même année\n",
    "    if \"aired\" in ref_infos.keys() and not under_max:\n",
    "        mean_year=np.mean(ref_infos[\"aired\"])\n",
    "        limits=[round(0.75*mean_year),round(1.25*mean_year)]\n",
    "        request=make_request(titles=selection[-1],episodes=limits)\n",
    "        select=select_anime(request,collection,champs=[\"main_title\"],sort={\"champs\":[\"score\",\"popularity\"],\"order\":[-1,-1]})\n",
    "        if len(select)>0:\n",
    "            selection.append(clean_selection(select,clean_yet))\n",
    "            clean_yet=True\n",
    "            under_max=(len(selection[-1])<=max_result)\n",
    "    \n",
    "    # Renvoi de la meilleur sélection\n",
    "    len_selection=pd.Series(selection).apply(lambda s: len(s) if len(s)!=0 else 10**30)\n",
    "    best_selection=selection[len_selection.argmin()]\n",
    "    request=make_request(titles=clean_selection(best_selection,clean_yet))\n",
    "    best_selection= select_anime(request,collection,max_result=max_result,champs=[\"main_title\"],\n",
    "                                    sort={\"champs\":[\"score\",\"popularity\"],\"order\":[-1,-1]})\n",
    "    return best_selection"
   ]
  },
  {
   "cell_type": "code",
   "execution_count": 163,
   "metadata": {},
   "outputs": [],
   "source": [
    "def clean_selection(selection,clean_yet=False):\n",
    "    \"\"\"\n",
    "    Suppression  dans une sélection \n",
    "    des animés liées entre eux\n",
    "\n",
    "    Args:\n",
    "        selection: liste de récommandations à traiter\n",
    "    Return:\n",
    "        liste de recommandations traitée\n",
    "    \"\"\"\n",
    "    if not clean_yet:\n",
    "        ref_infos=find_references(selection,collection,champs=[\"main_title\",\"related_anime\"])\n",
    "        selection=pd.Series(selection)\n",
    "        for i in selection.index:\n",
    "            if not pd.Series(selection[i]).isna()[0]:\n",
    "                related_anime=ref_infos[\"related_anime\"][ref_infos[\"main_title\"].index(selection[i])]\n",
    "                selection[i+1:]=selection[i+1:].apply(lambda x: np.NaN if x in related_anime else x)\n",
    "        return list(selection.dropna())\n",
    "    return selection"
   ]
  },
  {
   "cell_type": "code",
   "execution_count": 164,
   "metadata": {},
   "outputs": [
    {
     "output_type": "execute_result",
     "data": {
      "text/plain": [
       "['Fullmetal Alchemist: Brotherhood',\n",
       " 'Gintama°',\n",
       " 'Hunter x Hunter (2011)',\n",
       " 'Shingeki no Kyojin Season 3 Part 2',\n",
       " 'Ginga Eiyuu Densetsu',\n",
       " \"Gintama'\",\n",
       " '3-gatsu no Lion 2nd Season',\n",
       " 'Koe no Katachi']"
      ]
     },
     "metadata": {},
     "execution_count": 164
    }
   ],
   "source": [
    "selection=['Fullmetal Alchemist: Brotherhood',\n",
    " 'Gintama°',\n",
    " 'Hunter x Hunter (2011)',\n",
    " 'Shingeki no Kyojin Season 3 Part 2',\n",
    " 'Ginga Eiyuu Densetsu',\n",
    " \"Gintama'\",\n",
    " 'Shingeki no Kyojin: The Final Season',\n",
    " \"Gintama': Enchousen\",\n",
    " '3-gatsu no Lion 2nd Season',\n",
    " 'Koe no Katachi']\n",
    "clean_selection(selection)"
   ]
  },
  {
   "cell_type": "code",
   "execution_count": 166,
   "metadata": {},
   "outputs": [
    {
     "output_type": "stream",
     "name": "stdout",
     "text": [
      "{'main_title': ['One Piece', 'Naruto'], 'genres': [['Action', 'Adventure', 'Comedy', 'Super Power', 'Drama', 'Fantasy', 'Shounen'], ['Action', 'Adventure', 'Comedy', 'Super Power', 'Martial Arts', 'Shounen']], 'duration': [1440, 1380], 'aired': [1999, 2002], 'episodes': [220]}\n"
     ]
    },
    {
     "output_type": "execute_result",
     "data": {
      "text/plain": [
       "['Dragon Ball Z',\n",
       " 'Naruto: Shippuuden',\n",
       " 'D.Gray-man',\n",
       " 'One Piece Film: Strong World Episode 0',\n",
       " 'Bleach',\n",
       " 'Shaman King',\n",
       " 'Ueki no Housoku',\n",
       " 'Dragon Ball Kai',\n",
       " 'Dragon Ball Kai (2014)',\n",
       " 'Dragon Ball Super']"
      ]
     },
     "metadata": {},
     "execution_count": 166
    }
   ],
   "source": [
    "anime_recommandation([\"Naruto\",\"One Piece\"],collection)"
   ]
  },
  {
   "cell_type": "markdown",
   "metadata": {},
   "source": [
    "## Lancement de l'app dash"
   ]
  },
  {
   "cell_type": "code",
   "execution_count": 16,
   "metadata": {},
   "outputs": [
    {
     "output_type": "stream",
     "name": "stdout",
     "text": [
      "Dash is running on http://127.0.0.1:8050/\n",
      "\n",
      " * Serving Flask app \"anime_app\" (lazy loading)\n",
      " * Environment: production\n",
      "\u001b[31m   WARNING: This is a development server. Do not use it in a production deployment.\u001b[0m\n",
      "\u001b[2m   Use a production WSGI server instead.\u001b[0m\n",
      " * Debug mode: on\n",
      "^C\n"
     ]
    }
   ],
   "source": [
    "!python anime_app.py"
   ]
  },
  {
   "cell_type": "code",
   "execution_count": 1,
   "metadata": {},
   "outputs": [
    {
     "output_type": "execute_result",
     "data": {
      "text/plain": [
       "'/home/lcplacide/Documents/DataEngineerTools/6Evaluation/Projet/dash_app'"
      ]
     },
     "metadata": {},
     "execution_count": 1
    }
   ],
   "source": [
    "!python ../dash-sample-apps-master/apps/dash-oil-and-gas/app.py"
   ]
  }
 ],
 "metadata": {
  "kernelspec": {
   "display_name": "Python 3",
   "language": "python",
   "name": "python3"
  },
  "language_info": {
   "codemirror_mode": {
    "name": "ipython",
    "version": 3
   },
   "file_extension": ".py",
   "mimetype": "text/x-python",
   "name": "python",
   "nbconvert_exporter": "python",
   "pygments_lexer": "ipython3",
   "version": "3.8.5-final"
  }
 },
 "nbformat": 4,
 "nbformat_minor": 4
}