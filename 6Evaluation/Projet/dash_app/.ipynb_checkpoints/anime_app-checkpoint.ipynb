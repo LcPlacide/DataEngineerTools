{
 "cells": [
  {
   "cell_type": "markdown",
   "metadata": {},
   "source": [
    "# Rêquetes mongo pour édition des pages"
   ]
  },
  {
   "cell_type": "code",
   "execution_count": 1,
   "metadata": {},
   "outputs": [
    {
     "data": {
      "text/plain": [
       "['admin', 'anime', 'config', 'local']"
      ]
     },
     "execution_count": 1,
     "metadata": {},
     "output_type": "execute_result"
    }
   ],
   "source": [
    "# Importation des packages nécessaires\n",
    "import pandas as pd\n",
    "import numpy as np\n",
    "import pymongo\n",
    "import selenium\n",
    "from datetime import datetime,time\n",
    "#import jupyterlab_dash\n",
    "#viewer = jupyterlab_dash.AppViewer()\n",
    "import dash\n",
    "import dash_core_components as dcc\n",
    "import dash_html_components as html\n",
    "\n",
    "# Ouverturre de la base mongo\n",
    "client = pymongo.MongoClient()\n",
    "database = client.anime\n",
    "collection = database.myanimelist\n",
    "client.list_database_names()"
   ]
  },
  {
   "cell_type": "markdown",
   "metadata": {},
   "source": [
    "## Création du dictionnaire vide de filtres"
   ]
  },
  {
   "cell_type": "code",
   "execution_count": 2,
   "metadata": {},
   "outputs": [],
   "source": [
    "def init_filters(champs):\n",
    "    \"\"\"\n",
    "    Initialisation des filtres \n",
    "    \n",
    "    Args:\n",
    "        champs: list de champs de filtrage\n",
    "        \n",
    "    Returns:\n",
    "        dict de filtres initialisés\n",
    "    \"\"\"\n",
    "    return dict([(champ,None) for champ in champs])\n",
    "\n",
    "champs=['score','ranked','popularity',\n",
    "        'genres','producers','Type',\n",
    "        'episodes','status','duration',\n",
    "        'rating','aired']\n",
    "filters=init_filters(champs)"
   ]
  },
  {
   "cell_type": "markdown",
   "metadata": {},
   "source": [
    "## Sélection des animés selon certains critères"
   ]
  },
  {
   "cell_type": "code",
   "execution_count": 3,
   "metadata": {},
   "outputs": [],
   "source": [
    "def select_animes(filters,collection):\n",
    "    \"\"\"\n",
    "    Sélection d'animés à partir de filtre\n",
    "\n",
    "    Args:\n",
    "        filters: dict contenant les filtres\n",
    "        collection: collection contenant les documents à sélectionnés\n",
    "\n",
    "    Returns:\n",
    "        liste des documents séletionnés\n",
    "    \"\"\"\n",
    "\n",
    "    # Initialisation de la requête\n",
    "    request={\"$and\":[]}\n",
    "    \n",
    "    # Edition de la requête\n",
    "    for key in filters.keys():\n",
    "        if filters[key]!=None:\n",
    "            request[\"$and\"].append(filters[key])\n",
    "        \n",
    "    # Lancement de la rếquete\n",
    "    if len(request[\"$and\"])>0:\n",
    "        selection=list(collection.find(request))\n",
    "    else:\n",
    "        selection=list(collection.find({}))\n",
    "    \n",
    "    # Réinitilisation des filtres pour une futur requête\n",
    "    \n",
    "    return selection,init_filters(filters.keys())"
   ]
  },
  {
   "cell_type": "code",
   "execution_count": 4,
   "metadata": {},
   "outputs": [
    {
     "data": {
      "text/plain": [
       "(17368,\n",
       " {'score': None,\n",
       "  'ranked': None,\n",
       "  'popularity': None,\n",
       "  'genres': None,\n",
       "  'producers': None,\n",
       "  'Type': None,\n",
       "  'episodes': None,\n",
       "  'status': None,\n",
       "  'duration': None,\n",
       "  'rating': None,\n",
       "  'aired': None})"
      ]
     },
     "execution_count": 4,
     "metadata": {},
     "output_type": "execute_result"
    }
   ],
   "source": [
    "filters=init_filters(champs)\n",
    "selection,filters=select_animes(filters,collection)\n",
    "len(selection),filters"
   ]
  },
  {
   "cell_type": "markdown",
   "metadata": {},
   "source": [
    "## Edition des filtres de sélection"
   ]
  },
  {
   "cell_type": "code",
   "execution_count": 1,
   "metadata": {},
   "outputs": [
    {
     "name": "stdout",
     "output_type": "stream",
     "text": [
      "Dash is running on http://127.0.0.1:8050/\n",
      "\n",
      " * Serving Flask app \"anime_app\" (lazy loading)\n",
      " * Environment: production\n",
      "\u001b[31m   WARNING: This is a development server. Do not use it in a production deployment.\u001b[0m\n",
      "\u001b[2m   Use a production WSGI server instead.\u001b[0m\n",
      " * Debug mode: on\n",
      "^C\n"
     ]
    }
   ],
   "source": [
    "!python anime_app.py"
   ]
  }
 ],
 "metadata": {
  "kernelspec": {
   "display_name": "Python 3",
   "language": "python",
   "name": "python3"
  },
  "language_info": {
   "codemirror_mode": {
    "name": "ipython",
    "version": 3
   },
   "file_extension": ".py",
   "mimetype": "text/x-python",
   "name": "python",
   "nbconvert_exporter": "python",
   "pygments_lexer": "ipython3",
   "version": "3.8.6"
  }
 },
 "nbformat": 4,
 "nbformat_minor": 4
}
